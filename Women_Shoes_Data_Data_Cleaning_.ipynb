{
  "nbformat": 4,
  "nbformat_minor": 0,
  "metadata": {
    "colab": {
      "name": "Women Shoes Data - Data Cleaning .ipynb",
      "provenance": [],
      "collapsed_sections": []
    },
    "kernelspec": {
      "name": "python3",
      "display_name": "Python 3"
    }
  },
  "cells": [
    {
      "cell_type": "code",
      "metadata": {
        "id": "vbjqQljW3LnL"
      },
      "source": [
        "import pandas as pd\n",
        "import numpy as np\n",
        "import matplotlib.pyplot as plt"
      ],
      "execution_count": null,
      "outputs": []
    },
    {
      "cell_type": "code",
      "metadata": {
        "id": "iMEHnJlHxign",
        "colab": {
          "base_uri": "https://localhost:8080/"
        },
        "outputId": "ed34242f-626c-4724-f7bc-28f126c59ed3"
      },
      "source": [
        "from google.colab import drive\n",
        "drive.mount('/content/drive')"
      ],
      "execution_count": null,
      "outputs": [
        {
          "output_type": "stream",
          "text": [
            "Mounted at /content/drive\n"
          ],
          "name": "stdout"
        }
      ]
    },
    {
      "cell_type": "code",
      "metadata": {
        "id": "7ujNg09vyFio",
        "colab": {
          "base_uri": "https://localhost:8080/"
        },
        "outputId": "2923d2c8-809e-44ac-c18b-c89d57cf8ae1"
      },
      "source": [
        "!ls"
      ],
      "execution_count": null,
      "outputs": [
        {
          "output_type": "stream",
          "text": [
            "drive  sample_data\n"
          ],
          "name": "stdout"
        }
      ]
    },
    {
      "cell_type": "code",
      "metadata": {
        "id": "C2VxNAGKyRQF",
        "colab": {
          "base_uri": "https://localhost:8080/"
        },
        "outputId": "7691e713-577a-41c5-e355-b03469b1382a"
      },
      "source": [
        "!unzip 'drive/My Drive/women_shoes_data.zip'"
      ],
      "execution_count": null,
      "outputs": [
        {
          "output_type": "stream",
          "text": [
            "Archive:  drive/My Drive/women_shoes_data.zip\n",
            "  inflating: 7210_1.csv              \n"
          ],
          "name": "stdout"
        }
      ]
    },
    {
      "cell_type": "code",
      "metadata": {
        "id": "8uXtM23x3RCm"
      },
      "source": [
        "#men_shoes = pd.read_csv('https://query.data.world/s/ucsj2mwxtt2inakri3735mtudy7u25')\n",
        "women_shoes = pd.read_csv('7210_1.csv', low_memory=False)\n",
        "#women_shoes_test = df = pd.read_csv('https://query.data.world/s/geopno3aqt6j2hih4n4ryo34j3vktt', low_memory=False) # Women Shoes jun_19"
      ],
      "execution_count": null,
      "outputs": []
    },
    {
      "cell_type": "code",
      "metadata": {
        "id": "AzpqN9pDTYXB",
        "colab": {
          "base_uri": "https://localhost:8080/"
        },
        "outputId": "124ea70f-c3be-4044-cfa5-6e699af611d9"
      },
      "source": [
        "women_shoes.info()"
      ],
      "execution_count": null,
      "outputs": [
        {
          "output_type": "stream",
          "text": [
            "<class 'pandas.core.frame.DataFrame'>\n",
            "RangeIndex: 33801 entries, 0 to 33800\n",
            "Data columns (total 52 columns):\n",
            " #   Column               Non-Null Count  Dtype  \n",
            "---  ------               --------------  -----  \n",
            " 0   id                   33801 non-null  object \n",
            " 1   asins                2422 non-null   object \n",
            " 2   brand                32817 non-null  object \n",
            " 3   categories           33801 non-null  object \n",
            " 4   colors               19844 non-null  object \n",
            " 5   count                0 non-null      float64\n",
            " 6   dateAdded            33801 non-null  object \n",
            " 7   dateUpdated          33801 non-null  object \n",
            " 8   descriptions         28425 non-null  object \n",
            " 9   dimension            1177 non-null   object \n",
            " 10  ean                  9778 non-null   float64\n",
            " 11  features             27181 non-null  object \n",
            " 12  flavors              0 non-null      float64\n",
            " 13  imageURLs            22309 non-null  object \n",
            " 14  isbn                 0 non-null      float64\n",
            " 15  keys                 33801 non-null  object \n",
            " 16  manufacturer         9279 non-null   object \n",
            " 17  manufacturerNumber   31434 non-null  object \n",
            " 18  merchants            15382 non-null  object \n",
            " 19  name                 33801 non-null  object \n",
            " 20  prices.amountMin     33801 non-null  float64\n",
            " 21  prices.amountMax     33801 non-null  float64\n",
            " 22  prices.availability  307 non-null    object \n",
            " 23  prices.color         17421 non-null  object \n",
            " 24  prices.condition     12015 non-null  object \n",
            " 25  prices.count         0 non-null      float64\n",
            " 26  prices.currency      33801 non-null  object \n",
            " 27  prices.dateAdded     33801 non-null  object \n",
            " 28  prices.dateSeen      33801 non-null  object \n",
            " 29  prices.flavor        0 non-null      float64\n",
            " 30  prices.isSale        33801 non-null  bool   \n",
            " 31  prices.merchant      29926 non-null  object \n",
            " 32  prices.offer         6798 non-null   object \n",
            " 33  prices.returnPolicy  1374 non-null   object \n",
            " 34  prices.shipping      3948 non-null   object \n",
            " 35  prices.size          15391 non-null  object \n",
            " 36  prices.source        0 non-null      float64\n",
            " 37  prices.sourceURLs    33801 non-null  object \n",
            " 38  prices.warranty      0 non-null      float64\n",
            " 39  quantities           18490 non-null  object \n",
            " 40  reviews              4188 non-null   object \n",
            " 41  sizes                8602 non-null   object \n",
            " 42  skus                 22135 non-null  object \n",
            " 43  sourceURLs           33801 non-null  object \n",
            " 44  upc                  10724 non-null  float64\n",
            " 45  vin                  0 non-null      float64\n",
            " 46  websiteIDs           0 non-null      float64\n",
            " 47  weight               1263 non-null   object \n",
            " 48  Unnamed: 48          0 non-null      float64\n",
            " 49  Unnamed: 49          0 non-null      float64\n",
            " 50  Unnamed: 50          0 non-null      float64\n",
            " 51  Unnamed: 51          1 non-null      object \n",
            "dtypes: bool(1), float64(16), object(35)\n",
            "memory usage: 13.2+ MB\n"
          ],
          "name": "stdout"
        }
      ]
    },
    {
      "cell_type": "code",
      "metadata": {
        "id": "7Lo95DW0Tm4i"
      },
      "source": [
        "# women_shoes = women_shoes.drop(['quantities', 'prices.source', 'websiteIDs', 'isbn', 'prices.count', 'count', 'flavors', 'prices.warranty', 'asins','count','descriptions', 'ean', 'imageURLs', 'keys', 'manufacturerNumber', \n",
        "#                                 'name', 'prices.availability', 'prices.color', 'prices.condition', 'prices.count', 'prices.currency',\n",
        "#                                 'prices.flavor', 'prices.merchant', 'prices.sourceURLs', 'prices.size', 'skus', 'sourceURLs', 'upc', 'weight'], axis = 1 )"
      ],
      "execution_count": null,
      "outputs": []
    },
    {
      "cell_type": "code",
      "metadata": {
        "id": "Nlzu3KM7DPiX",
        "colab": {
          "base_uri": "https://localhost:8080/",
          "height": 667
        },
        "outputId": "c834e89b-3574-4b84-aa90-833b6e692c64"
      },
      "source": [
        "women_shoes.head()"
      ],
      "execution_count": null,
      "outputs": [
        {
          "output_type": "execute_result",
          "data": {
            "text/html": [
              "<div>\n",
              "<style scoped>\n",
              "    .dataframe tbody tr th:only-of-type {\n",
              "        vertical-align: middle;\n",
              "    }\n",
              "\n",
              "    .dataframe tbody tr th {\n",
              "        vertical-align: top;\n",
              "    }\n",
              "\n",
              "    .dataframe thead th {\n",
              "        text-align: right;\n",
              "    }\n",
              "</style>\n",
              "<table border=\"1\" class=\"dataframe\">\n",
              "  <thead>\n",
              "    <tr style=\"text-align: right;\">\n",
              "      <th></th>\n",
              "      <th>id</th>\n",
              "      <th>asins</th>\n",
              "      <th>brand</th>\n",
              "      <th>categories</th>\n",
              "      <th>colors</th>\n",
              "      <th>count</th>\n",
              "      <th>dateAdded</th>\n",
              "      <th>dateUpdated</th>\n",
              "      <th>descriptions</th>\n",
              "      <th>dimension</th>\n",
              "      <th>ean</th>\n",
              "      <th>features</th>\n",
              "      <th>flavors</th>\n",
              "      <th>imageURLs</th>\n",
              "      <th>isbn</th>\n",
              "      <th>keys</th>\n",
              "      <th>manufacturer</th>\n",
              "      <th>manufacturerNumber</th>\n",
              "      <th>merchants</th>\n",
              "      <th>name</th>\n",
              "      <th>prices.amountMin</th>\n",
              "      <th>prices.amountMax</th>\n",
              "      <th>prices.availability</th>\n",
              "      <th>prices.color</th>\n",
              "      <th>prices.condition</th>\n",
              "      <th>prices.count</th>\n",
              "      <th>prices.currency</th>\n",
              "      <th>prices.dateAdded</th>\n",
              "      <th>prices.dateSeen</th>\n",
              "      <th>prices.flavor</th>\n",
              "      <th>prices.isSale</th>\n",
              "      <th>prices.merchant</th>\n",
              "      <th>prices.offer</th>\n",
              "      <th>prices.returnPolicy</th>\n",
              "      <th>prices.shipping</th>\n",
              "      <th>prices.size</th>\n",
              "      <th>prices.source</th>\n",
              "      <th>prices.sourceURLs</th>\n",
              "      <th>prices.warranty</th>\n",
              "      <th>quantities</th>\n",
              "      <th>reviews</th>\n",
              "      <th>sizes</th>\n",
              "      <th>skus</th>\n",
              "      <th>sourceURLs</th>\n",
              "      <th>upc</th>\n",
              "      <th>vin</th>\n",
              "      <th>websiteIDs</th>\n",
              "      <th>weight</th>\n",
              "      <th>Unnamed: 48</th>\n",
              "      <th>Unnamed: 49</th>\n",
              "      <th>Unnamed: 50</th>\n",
              "      <th>Unnamed: 51</th>\n",
              "    </tr>\n",
              "  </thead>\n",
              "  <tbody>\n",
              "    <tr>\n",
              "      <th>0</th>\n",
              "      <td>AVpe__eOilAPnD_xSt-H</td>\n",
              "      <td>NaN</td>\n",
              "      <td>Novica</td>\n",
              "      <td>Access.,Clothing,Shoes,Women's Clothing</td>\n",
              "      <td>Purple</td>\n",
              "      <td>NaN</td>\n",
              "      <td>2017-02-03T22:06:24Z</td>\n",
              "      <td>2017-03-28T11:53:51Z</td>\n",
              "      <td>[{\"dateSeen\":[\"2017-03-26T05:04:46.539Z\",\"2017...</td>\n",
              "      <td>NaN</td>\n",
              "      <td>NaN</td>\n",
              "      <td>[{\"key\":\"Pattern\",\"value\":[\"Solid\"]},{\"key\":\"W...</td>\n",
              "      <td>NaN</td>\n",
              "      <td>NaN</td>\n",
              "      <td>NaN</td>\n",
              "      <td>handcraftedalpacablendpurplecharismasweaterper...</td>\n",
              "      <td>NaN</td>\n",
              "      <td>231516</td>\n",
              "      <td>NaN</td>\n",
              "      <td>Handcrafted Alpaca Blend 'Purple Charisma' Swe...</td>\n",
              "      <td>62.99</td>\n",
              "      <td>62.99</td>\n",
              "      <td>NaN</td>\n",
              "      <td>NaN</td>\n",
              "      <td>NaN</td>\n",
              "      <td>NaN</td>\n",
              "      <td>USD</td>\n",
              "      <td>2017-03-28T11:53:51Z</td>\n",
              "      <td>2017-03-26T05:04:46.539Z</td>\n",
              "      <td>NaN</td>\n",
              "      <td>False</td>\n",
              "      <td>Overstock.com</td>\n",
              "      <td>NaN</td>\n",
              "      <td>NaN</td>\n",
              "      <td>NaN</td>\n",
              "      <td>L</td>\n",
              "      <td>NaN</td>\n",
              "      <td>https://www.overstock.com/Worldstock-Fair-Trad...</td>\n",
              "      <td>NaN</td>\n",
              "      <td>[{\"dateSeen\":[\"2017-03-26T05:04:46.539Z\",\"2017...</td>\n",
              "      <td>[{\"date\":\"2017-01-10T00:00:00.000Z\",\"dateAdded...</td>\n",
              "      <td>NaN</td>\n",
              "      <td>[{\"sourceURLs\":[\"https://www.overstock.com/Wor...</td>\n",
              "      <td>https://www.overstock.com/Worldstock-Fair-Trad...</td>\n",
              "      <td>NaN</td>\n",
              "      <td>NaN</td>\n",
              "      <td>NaN</td>\n",
              "      <td>NaN</td>\n",
              "      <td>NaN</td>\n",
              "      <td>NaN</td>\n",
              "      <td>NaN</td>\n",
              "      <td>NaN</td>\n",
              "    </tr>\n",
              "    <tr>\n",
              "      <th>1</th>\n",
              "      <td>AVpe__eOilAPnD_xSt-H</td>\n",
              "      <td>NaN</td>\n",
              "      <td>Novica</td>\n",
              "      <td>Access.,Clothing,Shoes,Women's Clothing</td>\n",
              "      <td>Purple</td>\n",
              "      <td>NaN</td>\n",
              "      <td>2017-02-03T22:06:24Z</td>\n",
              "      <td>2017-03-28T11:53:51Z</td>\n",
              "      <td>[{\"dateSeen\":[\"2017-03-26T05:04:46.539Z\",\"2017...</td>\n",
              "      <td>NaN</td>\n",
              "      <td>NaN</td>\n",
              "      <td>[{\"key\":\"Pattern\",\"value\":[\"Solid\"]},{\"key\":\"W...</td>\n",
              "      <td>NaN</td>\n",
              "      <td>NaN</td>\n",
              "      <td>NaN</td>\n",
              "      <td>handcraftedalpacablendpurplecharismasweaterper...</td>\n",
              "      <td>NaN</td>\n",
              "      <td>231516</td>\n",
              "      <td>NaN</td>\n",
              "      <td>Handcrafted Alpaca Blend 'Purple Charisma' Swe...</td>\n",
              "      <td>62.99</td>\n",
              "      <td>62.99</td>\n",
              "      <td>NaN</td>\n",
              "      <td>NaN</td>\n",
              "      <td>NaN</td>\n",
              "      <td>NaN</td>\n",
              "      <td>USD</td>\n",
              "      <td>2017-03-28T11:53:51Z</td>\n",
              "      <td>2017-03-26T05:04:46.539Z</td>\n",
              "      <td>NaN</td>\n",
              "      <td>False</td>\n",
              "      <td>Overstock.com</td>\n",
              "      <td>NaN</td>\n",
              "      <td>NaN</td>\n",
              "      <td>NaN</td>\n",
              "      <td>M</td>\n",
              "      <td>NaN</td>\n",
              "      <td>https://www.overstock.com/Worldstock-Fair-Trad...</td>\n",
              "      <td>NaN</td>\n",
              "      <td>[{\"dateSeen\":[\"2017-03-26T05:04:46.539Z\",\"2017...</td>\n",
              "      <td>[{\"date\":\"2017-01-10T00:00:00.000Z\",\"dateAdded...</td>\n",
              "      <td>NaN</td>\n",
              "      <td>[{\"sourceURLs\":[\"https://www.overstock.com/Wor...</td>\n",
              "      <td>https://www.overstock.com/Worldstock-Fair-Trad...</td>\n",
              "      <td>NaN</td>\n",
              "      <td>NaN</td>\n",
              "      <td>NaN</td>\n",
              "      <td>NaN</td>\n",
              "      <td>NaN</td>\n",
              "      <td>NaN</td>\n",
              "      <td>NaN</td>\n",
              "      <td>NaN</td>\n",
              "    </tr>\n",
              "    <tr>\n",
              "      <th>2</th>\n",
              "      <td>AVpe__eOilAPnD_xSt-H</td>\n",
              "      <td>NaN</td>\n",
              "      <td>Novica</td>\n",
              "      <td>Access.,Clothing,Shoes,Women's Clothing</td>\n",
              "      <td>Purple</td>\n",
              "      <td>NaN</td>\n",
              "      <td>2017-02-03T22:06:24Z</td>\n",
              "      <td>2017-03-28T11:53:51Z</td>\n",
              "      <td>[{\"dateSeen\":[\"2017-03-26T05:04:46.539Z\",\"2017...</td>\n",
              "      <td>NaN</td>\n",
              "      <td>NaN</td>\n",
              "      <td>[{\"key\":\"Pattern\",\"value\":[\"Solid\"]},{\"key\":\"W...</td>\n",
              "      <td>NaN</td>\n",
              "      <td>NaN</td>\n",
              "      <td>NaN</td>\n",
              "      <td>handcraftedalpacablendpurplecharismasweaterper...</td>\n",
              "      <td>NaN</td>\n",
              "      <td>231516</td>\n",
              "      <td>NaN</td>\n",
              "      <td>Handcrafted Alpaca Blend 'Purple Charisma' Swe...</td>\n",
              "      <td>62.99</td>\n",
              "      <td>62.99</td>\n",
              "      <td>NaN</td>\n",
              "      <td>NaN</td>\n",
              "      <td>NaN</td>\n",
              "      <td>NaN</td>\n",
              "      <td>USD</td>\n",
              "      <td>2017-03-28T11:53:51Z</td>\n",
              "      <td>2017-03-26T05:04:46.539Z</td>\n",
              "      <td>NaN</td>\n",
              "      <td>False</td>\n",
              "      <td>Overstock.com</td>\n",
              "      <td>NaN</td>\n",
              "      <td>NaN</td>\n",
              "      <td>NaN</td>\n",
              "      <td>S</td>\n",
              "      <td>NaN</td>\n",
              "      <td>https://www.overstock.com/Worldstock-Fair-Trad...</td>\n",
              "      <td>NaN</td>\n",
              "      <td>[{\"dateSeen\":[\"2017-03-26T05:04:46.539Z\",\"2017...</td>\n",
              "      <td>[{\"date\":\"2017-01-10T00:00:00.000Z\",\"dateAdded...</td>\n",
              "      <td>NaN</td>\n",
              "      <td>[{\"sourceURLs\":[\"https://www.overstock.com/Wor...</td>\n",
              "      <td>https://www.overstock.com/Worldstock-Fair-Trad...</td>\n",
              "      <td>NaN</td>\n",
              "      <td>NaN</td>\n",
              "      <td>NaN</td>\n",
              "      <td>NaN</td>\n",
              "      <td>NaN</td>\n",
              "      <td>NaN</td>\n",
              "      <td>NaN</td>\n",
              "      <td>NaN</td>\n",
              "    </tr>\n",
              "    <tr>\n",
              "      <th>3</th>\n",
              "      <td>AVpe__eOilAPnD_xSt-H</td>\n",
              "      <td>NaN</td>\n",
              "      <td>Novica</td>\n",
              "      <td>Access.,Clothing,Shoes,Women's Clothing</td>\n",
              "      <td>Purple</td>\n",
              "      <td>NaN</td>\n",
              "      <td>2017-02-03T22:06:24Z</td>\n",
              "      <td>2017-03-28T11:53:51Z</td>\n",
              "      <td>[{\"dateSeen\":[\"2017-03-26T05:04:46.539Z\",\"2017...</td>\n",
              "      <td>NaN</td>\n",
              "      <td>NaN</td>\n",
              "      <td>[{\"key\":\"Pattern\",\"value\":[\"Solid\"]},{\"key\":\"W...</td>\n",
              "      <td>NaN</td>\n",
              "      <td>NaN</td>\n",
              "      <td>NaN</td>\n",
              "      <td>handcraftedalpacablendpurplecharismasweaterper...</td>\n",
              "      <td>NaN</td>\n",
              "      <td>231516</td>\n",
              "      <td>NaN</td>\n",
              "      <td>Handcrafted Alpaca Blend 'Purple Charisma' Swe...</td>\n",
              "      <td>62.99</td>\n",
              "      <td>62.99</td>\n",
              "      <td>NaN</td>\n",
              "      <td>NaN</td>\n",
              "      <td>NaN</td>\n",
              "      <td>NaN</td>\n",
              "      <td>USD</td>\n",
              "      <td>2017-03-28T11:53:51Z</td>\n",
              "      <td>2017-03-26T05:04:46.539Z</td>\n",
              "      <td>NaN</td>\n",
              "      <td>False</td>\n",
              "      <td>Overstock.com</td>\n",
              "      <td>NaN</td>\n",
              "      <td>NaN</td>\n",
              "      <td>NaN</td>\n",
              "      <td>XL</td>\n",
              "      <td>NaN</td>\n",
              "      <td>https://www.overstock.com/Worldstock-Fair-Trad...</td>\n",
              "      <td>NaN</td>\n",
              "      <td>[{\"dateSeen\":[\"2017-03-26T05:04:46.539Z\",\"2017...</td>\n",
              "      <td>[{\"date\":\"2017-01-10T00:00:00.000Z\",\"dateAdded...</td>\n",
              "      <td>NaN</td>\n",
              "      <td>[{\"sourceURLs\":[\"https://www.overstock.com/Wor...</td>\n",
              "      <td>https://www.overstock.com/Worldstock-Fair-Trad...</td>\n",
              "      <td>NaN</td>\n",
              "      <td>NaN</td>\n",
              "      <td>NaN</td>\n",
              "      <td>NaN</td>\n",
              "      <td>NaN</td>\n",
              "      <td>NaN</td>\n",
              "      <td>NaN</td>\n",
              "      <td>NaN</td>\n",
              "    </tr>\n",
              "    <tr>\n",
              "      <th>4</th>\n",
              "      <td>AVpe__eOilAPnD_xSt-H</td>\n",
              "      <td>NaN</td>\n",
              "      <td>Novica</td>\n",
              "      <td>Access.,Clothing,Shoes,Women's Clothing</td>\n",
              "      <td>Purple</td>\n",
              "      <td>NaN</td>\n",
              "      <td>2017-02-03T22:06:24Z</td>\n",
              "      <td>2017-03-28T11:53:51Z</td>\n",
              "      <td>[{\"dateSeen\":[\"2017-03-26T05:04:46.539Z\",\"2017...</td>\n",
              "      <td>NaN</td>\n",
              "      <td>NaN</td>\n",
              "      <td>[{\"key\":\"Pattern\",\"value\":[\"Solid\"]},{\"key\":\"W...</td>\n",
              "      <td>NaN</td>\n",
              "      <td>NaN</td>\n",
              "      <td>NaN</td>\n",
              "      <td>handcraftedalpacablendpurplecharismasweaterper...</td>\n",
              "      <td>NaN</td>\n",
              "      <td>231516</td>\n",
              "      <td>NaN</td>\n",
              "      <td>Handcrafted Alpaca Blend 'Purple Charisma' Swe...</td>\n",
              "      <td>62.99</td>\n",
              "      <td>62.99</td>\n",
              "      <td>NaN</td>\n",
              "      <td>NaN</td>\n",
              "      <td>NaN</td>\n",
              "      <td>NaN</td>\n",
              "      <td>USD</td>\n",
              "      <td>2017-03-02T16:48:44Z</td>\n",
              "      <td>2017-02-08T07:38:48.129Z</td>\n",
              "      <td>NaN</td>\n",
              "      <td>True</td>\n",
              "      <td>Overstock.com</td>\n",
              "      <td>NaN</td>\n",
              "      <td>NaN</td>\n",
              "      <td>NaN</td>\n",
              "      <td>XL</td>\n",
              "      <td>NaN</td>\n",
              "      <td>https://www.overstock.com/Worldstock-Fair-Trad...</td>\n",
              "      <td>NaN</td>\n",
              "      <td>[{\"dateSeen\":[\"2017-03-26T05:04:46.539Z\",\"2017...</td>\n",
              "      <td>[{\"date\":\"2017-01-10T00:00:00.000Z\",\"dateAdded...</td>\n",
              "      <td>NaN</td>\n",
              "      <td>[{\"sourceURLs\":[\"https://www.overstock.com/Wor...</td>\n",
              "      <td>https://www.overstock.com/Worldstock-Fair-Trad...</td>\n",
              "      <td>NaN</td>\n",
              "      <td>NaN</td>\n",
              "      <td>NaN</td>\n",
              "      <td>NaN</td>\n",
              "      <td>NaN</td>\n",
              "      <td>NaN</td>\n",
              "      <td>NaN</td>\n",
              "      <td>NaN</td>\n",
              "    </tr>\n",
              "  </tbody>\n",
              "</table>\n",
              "</div>"
            ],
            "text/plain": [
              "                     id asins   brand  ... Unnamed: 49 Unnamed: 50  Unnamed: 51\n",
              "0  AVpe__eOilAPnD_xSt-H   NaN  Novica  ...         NaN         NaN          NaN\n",
              "1  AVpe__eOilAPnD_xSt-H   NaN  Novica  ...         NaN         NaN          NaN\n",
              "2  AVpe__eOilAPnD_xSt-H   NaN  Novica  ...         NaN         NaN          NaN\n",
              "3  AVpe__eOilAPnD_xSt-H   NaN  Novica  ...         NaN         NaN          NaN\n",
              "4  AVpe__eOilAPnD_xSt-H   NaN  Novica  ...         NaN         NaN          NaN\n",
              "\n",
              "[5 rows x 52 columns]"
            ]
          },
          "metadata": {
            "tags": []
          },
          "execution_count": 135
        }
      ]
    },
    {
      "cell_type": "code",
      "metadata": {
        "id": "eaiG-SQ62SJq",
        "colab": {
          "base_uri": "https://localhost:8080/"
        },
        "outputId": "fdfb5dac-70aa-4de9-d805-a27849992683"
      },
      "source": [
        "women_shoes.columns"
      ],
      "execution_count": null,
      "outputs": [
        {
          "output_type": "execute_result",
          "data": {
            "text/plain": [
              "Index(['id', 'asins', 'brand', 'categories', 'colors', 'count', 'dateAdded',\n",
              "       'dateUpdated', 'descriptions', 'dimension', 'ean', 'features',\n",
              "       'flavors', 'imageURLs', 'isbn', 'keys', 'manufacturer',\n",
              "       'manufacturerNumber', 'merchants', 'name', 'prices.amountMin',\n",
              "       'prices.amountMax', 'prices.availability', 'prices.color',\n",
              "       'prices.condition', 'prices.count', 'prices.currency',\n",
              "       'prices.dateAdded', 'prices.dateSeen', 'prices.flavor', 'prices.isSale',\n",
              "       'prices.merchant', 'prices.offer', 'prices.returnPolicy',\n",
              "       'prices.shipping', 'prices.size', 'prices.source', 'prices.sourceURLs',\n",
              "       'prices.warranty', 'quantities', 'reviews', 'sizes', 'skus',\n",
              "       'sourceURLs', 'upc', 'vin', 'websiteIDs', 'weight', 'Unnamed: 48',\n",
              "       'Unnamed: 49', 'Unnamed: 50', 'Unnamed: 51'],\n",
              "      dtype='object')"
            ]
          },
          "metadata": {
            "tags": []
          },
          "execution_count": 136
        }
      ]
    },
    {
      "cell_type": "code",
      "metadata": {
        "id": "YXa9xgeAy4Li",
        "colab": {
          "base_uri": "https://localhost:8080/"
        },
        "outputId": "b10abd83-262f-4838-ca54-8ac7a565b7a4"
      },
      "source": [
        "women_shoes.shape"
      ],
      "execution_count": null,
      "outputs": [
        {
          "output_type": "execute_result",
          "data": {
            "text/plain": [
              "(33801, 52)"
            ]
          },
          "metadata": {
            "tags": []
          },
          "execution_count": 137
        }
      ]
    },
    {
      "cell_type": "code",
      "metadata": {
        "id": "VlIKDwtey_tM"
      },
      "source": [
        "data = women_shoes"
      ],
      "execution_count": null,
      "outputs": []
    },
    {
      "cell_type": "code",
      "metadata": {
        "id": "hReA_VrdzL3j"
      },
      "source": [
        "# Changing headers to lowercase\n",
        "data.columns= map(str.lower, data.columns)"
      ],
      "execution_count": null,
      "outputs": []
    },
    {
      "cell_type": "code",
      "metadata": {
        "id": "1ZMT34yTzNNg"
      },
      "source": [
        "data_null_table_df = pd.DataFrame(data.isnull().sum(axis=0),columns=['num_nulls'])"
      ],
      "execution_count": null,
      "outputs": []
    },
    {
      "cell_type": "code",
      "metadata": {
        "id": "Y4t7n2XGzTR8"
      },
      "source": [
        "data_null_table_df['feature_name'] = data_null_table_df.index\n",
        "data_null_table_df['ratio_of_null'] = data_null_table_df['num_nulls']/data.shape[0]"
      ],
      "execution_count": null,
      "outputs": []
    },
    {
      "cell_type": "code",
      "metadata": {
        "id": "VVdYSXmB0lg7",
        "colab": {
          "base_uri": "https://localhost:8080/",
          "height": 198
        },
        "outputId": "22453d61-ae44-4ff8-85fb-bb689a7b0530"
      },
      "source": [
        "data_null_table_df.head(5)"
      ],
      "execution_count": null,
      "outputs": [
        {
          "output_type": "execute_result",
          "data": {
            "text/html": [
              "<div>\n",
              "<style scoped>\n",
              "    .dataframe tbody tr th:only-of-type {\n",
              "        vertical-align: middle;\n",
              "    }\n",
              "\n",
              "    .dataframe tbody tr th {\n",
              "        vertical-align: top;\n",
              "    }\n",
              "\n",
              "    .dataframe thead th {\n",
              "        text-align: right;\n",
              "    }\n",
              "</style>\n",
              "<table border=\"1\" class=\"dataframe\">\n",
              "  <thead>\n",
              "    <tr style=\"text-align: right;\">\n",
              "      <th></th>\n",
              "      <th>num_nulls</th>\n",
              "      <th>feature_name</th>\n",
              "      <th>ratio_of_null</th>\n",
              "    </tr>\n",
              "  </thead>\n",
              "  <tbody>\n",
              "    <tr>\n",
              "      <th>id</th>\n",
              "      <td>0</td>\n",
              "      <td>id</td>\n",
              "      <td>0.000000</td>\n",
              "    </tr>\n",
              "    <tr>\n",
              "      <th>asins</th>\n",
              "      <td>31379</td>\n",
              "      <td>asins</td>\n",
              "      <td>0.928345</td>\n",
              "    </tr>\n",
              "    <tr>\n",
              "      <th>brand</th>\n",
              "      <td>984</td>\n",
              "      <td>brand</td>\n",
              "      <td>0.029112</td>\n",
              "    </tr>\n",
              "    <tr>\n",
              "      <th>categories</th>\n",
              "      <td>0</td>\n",
              "      <td>categories</td>\n",
              "      <td>0.000000</td>\n",
              "    </tr>\n",
              "    <tr>\n",
              "      <th>colors</th>\n",
              "      <td>13957</td>\n",
              "      <td>colors</td>\n",
              "      <td>0.412917</td>\n",
              "    </tr>\n",
              "  </tbody>\n",
              "</table>\n",
              "</div>"
            ],
            "text/plain": [
              "            num_nulls feature_name  ratio_of_null\n",
              "id                  0           id       0.000000\n",
              "asins           31379        asins       0.928345\n",
              "brand             984        brand       0.029112\n",
              "categories          0   categories       0.000000\n",
              "colors          13957       colors       0.412917"
            ]
          },
          "metadata": {
            "tags": []
          },
          "execution_count": 143
        }
      ]
    },
    {
      "cell_type": "code",
      "metadata": {
        "id": "z_xFfvEY0tSY",
        "colab": {
          "base_uri": "https://localhost:8080/",
          "height": 371
        },
        "outputId": "dd219c3e-6245-4474-c2a9-ef0e5ce25eba"
      },
      "source": [
        "import seaborn as sns\n",
        "sns.heatmap(data.isnull().astype('int'))"
      ],
      "execution_count": null,
      "outputs": [
        {
          "output_type": "execute_result",
          "data": {
            "text/plain": [
              "<matplotlib.axes._subplots.AxesSubplot at 0x7f0d17d43588>"
            ]
          },
          "metadata": {
            "tags": []
          },
          "execution_count": 144
        },
        {
          "output_type": "display_data",
          "data": {
            "image/png": "[encoded data removed]",
            "text/plain": [
              "<Figure size 432x288 with 2 Axes>"
            ]
          },
          "metadata": {
            "tags": [],
            "needs_background": "light"
          }
        }
      ]
    },
    {
      "cell_type": "code",
      "metadata": {
        "id": "9xK9VS650oGW",
        "colab": {
          "base_uri": "https://localhost:8080/"
        },
        "outputId": "816e3fe0-16db-47ea-8698-a7c2f4357ab7"
      },
      "source": [
        "threshold = 0.5\n",
        "col2remove = data_null_table_df[data_null_table_df['ratio_of_null'] > threshold].index\n",
        "col2remove"
      ],
      "execution_count": null,
      "outputs": [
        {
          "output_type": "execute_result",
          "data": {
            "text/plain": [
              "Index(['asins', 'count', 'dimension', 'ean', 'flavors', 'isbn', 'manufacturer',\n",
              "       'merchants', 'prices.availability', 'prices.condition', 'prices.count',\n",
              "       'prices.flavor', 'prices.offer', 'prices.returnpolicy',\n",
              "       'prices.shipping', 'prices.size', 'prices.source', 'prices.warranty',\n",
              "       'reviews', 'sizes', 'upc', 'vin', 'websiteids', 'weight', 'unnamed: 48',\n",
              "       'unnamed: 49', 'unnamed: 50', 'unnamed: 51'],\n",
              "      dtype='object')"
            ]
          },
          "metadata": {
            "tags": []
          },
          "execution_count": 145
        }
      ]
    },
    {
      "cell_type": "code",
      "metadata": {
        "id": "4LRuBUY40sPf"
      },
      "source": [
        "data_after_remove_df = data[[col for col in data.columns if col not in col2remove]]"
      ],
      "execution_count": null,
      "outputs": []
    },
    {
      "cell_type": "code",
      "metadata": {
        "id": "InqKQXCT04Xi",
        "colab": {
          "base_uri": "https://localhost:8080/"
        },
        "outputId": "65ad7fb8-8e1c-4f94-8ac7-1b3bc360f0f3"
      },
      "source": [
        "print(\"The data shape before %s and after %s \"%(data.shape, data_after_remove_df.shape))"
      ],
      "execution_count": null,
      "outputs": [
        {
          "output_type": "stream",
          "text": [
            "The data shape before (33801, 52) and after (33801, 24) \n"
          ],
          "name": "stdout"
        }
      ]
    },
    {
      "cell_type": "code",
      "metadata": {
        "id": "1LOW0UnZ07HF",
        "colab": {
          "base_uri": "https://localhost:8080/",
          "height": 385
        },
        "outputId": "ac7a46d6-783c-4b53-dfa3-0ec607566097"
      },
      "source": [
        "sns.heatmap(data_after_remove_df.isnull().astype('int'))"
      ],
      "execution_count": null,
      "outputs": [
        {
          "output_type": "execute_result",
          "data": {
            "text/plain": [
              "<matplotlib.axes._subplots.AxesSubplot at 0x7f0d18007eb8>"
            ]
          },
          "metadata": {
            "tags": []
          },
          "execution_count": 148
        },
        {
          "output_type": "display_data",
          "data": {
            "image/png": "[encoded data removed]",
            "text/plain": [
              "<Figure size 432x288 with 2 Axes>"
            ]
          },
          "metadata": {
            "tags": [],
            "needs_background": "light"
          }
        }
      ]
    },
    {
      "cell_type": "code",
      "metadata": {
        "id": "QyHOS2df1zko",
        "colab": {
          "base_uri": "https://localhost:8080/"
        },
        "outputId": "658313d6-7d5c-44f4-8fcb-3eb5f5e994f4"
      },
      "source": [
        "data = data_after_remove_df\n",
        "#Dealing with the NaN\n",
        "print(\"Null values per column:\")\n",
        "data.isnull().sum()"
      ],
      "execution_count": null,
      "outputs": [
        {
          "output_type": "stream",
          "text": [
            "Null values per column:\n"
          ],
          "name": "stdout"
        },
        {
          "output_type": "execute_result",
          "data": {
            "text/plain": [
              "id                        0\n",
              "brand                   984\n",
              "categories                0\n",
              "colors                13957\n",
              "dateadded                 0\n",
              "dateupdated               0\n",
              "descriptions           5376\n",
              "features               6620\n",
              "imageurls             11492\n",
              "keys                      0\n",
              "manufacturernumber     2367\n",
              "name                      0\n",
              "prices.amountmin          0\n",
              "prices.amountmax          0\n",
              "prices.color          16380\n",
              "prices.currency           0\n",
              "prices.dateadded          0\n",
              "prices.dateseen           0\n",
              "prices.issale             0\n",
              "prices.merchant        3875\n",
              "prices.sourceurls         0\n",
              "quantities            15311\n",
              "skus                  11666\n",
              "sourceurls                0\n",
              "dtype: int64"
            ]
          },
          "metadata": {
            "tags": []
          },
          "execution_count": 149
        }
      ]
    },
    {
      "cell_type": "code",
      "metadata": {
        "id": "D_Jr5rLvn1fz"
      },
      "source": [
        "data['colors2'] = data['features'].str.split('\"key\":\"Color\",\"value\":\\[\"',\n",
        "                                         expand=True)[1].str.split('\"\\]}',\n",
        "                                                                   expand=True, n=1)[0]\n",
        "data['colors'] = data['colors'].fillna(data['colors2'])\n",
        "data.drop('colors2', axis=1, inplace=True)\n",
        "data['colors'] = data['colors'].str.lower()\n",
        "data['colors'].isnull().sum()/33798*100"
      ],
      "execution_count": null,
      "outputs": []
    },
    {
      "cell_type": "code",
      "metadata": {
        "id": "LkyoBjHO13qQ"
      },
      "source": [
        "data['colors'] = data['colors'].fillna('no color')"
      ],
      "execution_count": null,
      "outputs": []
    },
    {
      "cell_type": "code",
      "metadata": {
        "id": "ypjlxvn-16_Y"
      },
      "source": [
        "data['brand'] = data['brand'].fillna('no brand')"
      ],
      "execution_count": null,
      "outputs": []
    },
    {
      "cell_type": "code",
      "metadata": {
        "id": "aTdwcmfkoedI"
      },
      "source": [
        "# brand names to change.\n",
        "\n",
        "brand_map = {'a2 by aerosoles':'aerosoles', \"what's what by aerosoles\":'aerosoles',\n",
        "'adidas outdoor':'adidas',\n",
        "'adriana new york':'adriana',\n",
        "'alexander mcqueen by puma':'puma', 'alexander mcqueen':'puma',\n",
        "'alpine':'alpine swiss',\n",
        "'anne klein ak':'anne klein', 'anne klein sport':'anne klein',\n",
        "'annie shoes':'annie',\n",
        "'athena':'athena alexander',\n",
        "'babe.':'babe',\n",
        "'baretraps':'bare traps',\n",
        "'bcbg max azria':'bcbg', 'bcbg paris':'bcbg', 'bcbgeneration':'bcbg',\n",
        "'beacon shoes':'beacon',\n",
        "'bebe sport':'bebe', 'bebe stu':'bebe',\n",
        "'belle by sigerson morrison':'belle', 'belle sigerson morrison':'belle',\n",
        "'bernie mev':'bernie', 'bernie mev.':'bernie',\n",
        "'bettye by bettye muller':'bettye muller', 'bettye by bettye muller ':'bettye muller',\n",
        "\"breckelle's\":'breckelles',\n",
        "'callaway footwear':'callaway',\n",
        "'calvin klein ck':'calvin klein', 'calvin klein jeans':'calvin klein',\n",
        "'carlos by carlos santana':'carlos santana',\n",
        "'charles by charles david':'charels david',\n",
        "'see by chloe':'chloe',\n",
        "'clarks artisan':'clarks', 'clarks artisan collection':'clarks', 'clarks collection':'clarks',\n",
        "'cobb hill by new balance':'new balance', 'cobb hill':'new balance',\n",
        "'maria sharapova by cole haan': 'cole hann',\n",
        "\"corky's\":'corkys', \"corky's footwear\":'corkys', \"corkys footwear, inc.\":'corkys',\n",
        "'dearforms':'dearfoams', 'df by dearfoams':'dearfoams',\n",
        "'derek lam 10 crosby':'derek lam',\n",
        "'diba.true':'dibatrue',\n",
        "'dolce&gabbana':'dolce and gabbana', 'dolce & gabbana':'dolce and gabbana', 'dolce by mojo moxy':'dolce and gabbana',\n",
        "  'dolce vita':'dolce and gabbana', 'dv8 by dolce vita':'dolce and gabbana', 'dv by dolce vita':'dolce and gabbana',\n",
        "\"dr. scholl's\":'dr scholls',\n",
        "\"dr. martens air wair\":'drmartens',\n",
        "'drew shoe':'drew',\n",
        "'easy spirit e360':'easy spirit', 'easy spirit.':'easy spirit',\n",
        "'ellie shoes':'ellie',\n",
        "'emu australia':'emu',\n",
        "'fergie footwear':'fergie',\n",
        "'forever collectible':'forever', 'forever link':'forever', 'fourever funky':'forever',\n",
        "'sarto by franco sarto':'franco sarto',\n",
        "'ferriniusa':'ferrini',\n",
        "'fitflop':'fit flop',\n",
        "'funtasma by pleaser':'funtasma',\n",
        "'g by guess':'guess',\n",
        "'gc shoes':'gc',\n",
        "'genuine grip footwear':'genuine grip',\n",
        "\"hogan by tod's\":'hogan',\n",
        "'soft style by hush puppies':'hush puppies',\n",
        "'ilse jacobsen hornbaek':'ilse jacobson',\n",
        "'isaacmizrahi':'isaac mizrahi',\n",
        "'italian shoe makers':'italian comfort',\n",
        "'j.renee':'j. renee',\n",
        "'jbu by jambu':'jambu',\n",
        "'josefseibel':'josef siebel',\n",
        "'justin blair':'justin', 'justin boots':'justin', 'justin gypsy':'justin',\n",
        "'kate spade new york':'kate spade',\n",
        "'kenneth cole reaction':'kenneth cole', 'kenneth cole ny':'kenneth cole', 'kenneth cole new york':'kenneth cole',\n",
        " 'unlisted kenneth cole':'kenneth cole',\n",
        "'lamo sheepskin inc':'lamo',\n",
        "'lifestride':'lifes tride',\n",
        "'luoluo':'luo luo',\n",
        "'marc fisher ltd':'marc fisher',\n",
        "'mia heritage':'mia',\n",
        "'micahel kors':'michael kors', 'michael michael kors':'michael kors',\n",
        "'mobils by mephisto':'mephisto',\n",
        "'top moda':'moda', 'moda essentials':'moda', 'everybody by bz moda':'moda',\n",
        "'muk luks a la mode':'muk luks',\n",
        "'munro american':'munro',\n",
        "'naot footwear':'naot',\n",
        "'new@titude':'new attitude', 'new@ttitude':'new attitude',\n",
        "'nina originals':'nina',\n",
        "'nine west vintage america collection':'nine west',\n",
        "'nufoot���':'nufoot',\n",
        "'pleaser shoes':'pleaser', 'pleaser usa, inc.':'pleaser', 'pleaserusa':'pleaser',\n",
        "'rachel':'rachel roy', 'rachel rachel roy ':'rachel roy',\n",
        "'lauren by ralph lauren':'ralph lauren', 'lauren ralph lauren':'ralph lauren', 'lauren lorraine':'ralph lauren',\n",
        " 'polo ralph lauren':'ralph lauren','ralph lauren denim supply':'ralph lauren',\n",
        "'rieker-antistress':'rieker',\n",
        "'rocket dog brands llc':'rocket dog',\n",
        "'sanita clogs':'sanita',\n",
        "'ferragamo':'salvatore ferragamo',\n",
        "'skechers usa':'skechers',\n",
        "'sperry top sider':'sperry', 'sperry top-sider':'sperry',\n",
        "\"l'artiste by spring step\":'spring step', \"flexus by spring step\":'spring step', \"patrizia by spring step \":'spring step',\n",
        " \"patrizia pepe\":'spring step', \"patrizia\":'spring step',\n",
        "'steven steve madden':'steve madden',\n",
        "'style & co.':'style and co',\n",
        "'timberland earthkeepers':'timberland', 'timberland pro':'timberland',\n",
        "'toms shoes':'toms',\n",
        "'tony lama boot co.':'tony lama',\n",
        "'totes isotoner':'totes',\n",
        "'trotter':'trotters',\n",
        "'ugg australia':'ugg',\n",
        "'famous name brand':'unbranded', 'generic':'unbranded', 'generic surplus':'unbranded', 'non-branded':'unbranded',\n",
        " 'not applicable':'unbranded', 'not rated':'unbranded', 'lucky  brand':'unbranded', 'lucky brand':'unbranded',\n",
        " 'very fine dance shoes':'unbranded',\n",
        "'valentino noir':'valentino',\n",
        "'victoria k.':'victoria',\n",
        "'vince camuto':'vince',\n",
        "'vionic by orthaheel':'vionic', 'vionic with orthaheel technology':'vionic',\n",
        "'elites by walking cradles':'walking cradles', 'elites':'walking cradles','mark lemp by walking cradles':'walking cradles',\n",
        " 'rose petals by walking cradles':'walking cradles', 'the walking cradle company':'walking cradles'\n",
        "}"
      ],
      "execution_count": null,
      "outputs": []
    },
    {
      "cell_type": "code",
      "metadata": {
        "id": "V13BA8WUokOK"
      },
      "source": [
        "# create a new column with corrected brand names.\n",
        "\n",
        "data['brand_clean'] = data['brand'].replace(brand_map)\n",
        "data['brand_clean'].head()"
      ],
      "execution_count": null,
      "outputs": []
    },
    {
      "cell_type": "code",
      "metadata": {
        "id": "D8Mn5ypvoqbH"
      },
      "source": [
        "# Deleting data not associated to shoe brands\n",
        "del_brand = ['1 world sarongs', 'mirage pet products', 'timeless toys'] # to delete\n",
        "data = data[~data['brand'].isin(del_brand)]"
      ],
      "execution_count": null,
      "outputs": []
    },
    {
      "cell_type": "code",
      "metadata": {
        "id": "rbOM7vk7o1RR",
        "colab": {
          "base_uri": "https://localhost:8080/"
        },
        "outputId": "a02c0ad6-d337-4b1d-d86e-0fd1dcbe9ee4"
      },
      "source": [
        "#Checking shoe price via brand\r\n",
        "data.groupby('brand')['prices.amountmax'].mean().sort_values(ascending=False).head(10)"
      ],
      "execution_count": null,
      "outputs": [
        {
          "output_type": "execute_result",
          "data": {
            "text/plain": [
              "brand\n",
              "JewelsObsession        3322.190000\n",
              "Teva                   1355.578000\n",
              "Valentino              1186.998000\n",
              "Simone Rocha           1120.000000\n",
              "MALONE SOULIERS        1100.000000\n",
              "Nicholas Kirkwood      1095.000000\n",
              "Marni                   963.333333\n",
              "Paul Andrew             895.000000\n",
              "Stella McCartney        885.000000\n",
              "Christian Louboutin     867.333333\n",
              "Name: prices.amountmax, dtype: float64"
            ]
          },
          "metadata": {
            "tags": []
          },
          "execution_count": 156
        }
      ]
    },
    {
      "cell_type": "code",
      "metadata": {
        "id": "SDjtU65Aow6D"
      },
      "source": [
        "# Jewellery Shoe brand, prices of such shoes are extreme outliers to the general shoe price\r\n",
        "data = data[~(data['brand']=='jewelsobsession')]"
      ],
      "execution_count": null,
      "outputs": []
    },
    {
      "cell_type": "code",
      "metadata": {
        "id": "HgsCnqf919ha",
        "colab": {
          "base_uri": "https://localhost:8080/"
        },
        "outputId": "9a7b9d41-95be-4236-bdd1-699de95bc1bb"
      },
      "source": [
        "data.info()"
      ],
      "execution_count": null,
      "outputs": [
        {
          "output_type": "stream",
          "text": [
            "<class 'pandas.core.frame.DataFrame'>\n",
            "Int64Index: 33801 entries, 0 to 33800\n",
            "Data columns (total 25 columns):\n",
            " #   Column              Non-Null Count  Dtype  \n",
            "---  ------              --------------  -----  \n",
            " 0   id                  33801 non-null  object \n",
            " 1   brand               33801 non-null  object \n",
            " 2   categories          33801 non-null  object \n",
            " 3   colors              33801 non-null  object \n",
            " 4   dateadded           33801 non-null  object \n",
            " 5   dateupdated         33801 non-null  object \n",
            " 6   descriptions        28425 non-null  object \n",
            " 7   features            27181 non-null  object \n",
            " 8   imageurls           22309 non-null  object \n",
            " 9   keys                33801 non-null  object \n",
            " 10  manufacturernumber  31434 non-null  object \n",
            " 11  name                33801 non-null  object \n",
            " 12  prices.amountmin    33801 non-null  float64\n",
            " 13  prices.amountmax    33801 non-null  float64\n",
            " 14  prices.color        17421 non-null  object \n",
            " 15  prices.currency     33801 non-null  object \n",
            " 16  prices.dateadded    33801 non-null  object \n",
            " 17  prices.dateseen     33801 non-null  object \n",
            " 18  prices.issale       33801 non-null  bool   \n",
            " 19  prices.merchant     29926 non-null  object \n",
            " 20  prices.sourceurls   33801 non-null  object \n",
            " 21  quantities          18490 non-null  object \n",
            " 22  skus                22135 non-null  object \n",
            " 23  sourceurls          33801 non-null  object \n",
            " 24  brand_clean         33801 non-null  object \n",
            "dtypes: bool(1), float64(2), object(22)\n",
            "memory usage: 6.5+ MB\n"
          ],
          "name": "stdout"
        }
      ]
    },
    {
      "cell_type": "code",
      "metadata": {
        "id": "vPgEPrwp2IbV",
        "colab": {
          "base_uri": "https://localhost:8080/"
        },
        "outputId": "5c80fc9a-1beb-4074-93bd-a00f6d1171b3"
      },
      "source": [
        " #Average price of shoes\n",
        "data['prices.amountavg']= (data['prices.amountmin']+ data['prices.amountmax'])/2\n",
        "print(data['prices.amountavg'].head(15))"
      ],
      "execution_count": null,
      "outputs": [
        {
          "output_type": "stream",
          "text": [
            "0      62.99\n",
            "1      62.99\n",
            "2      62.99\n",
            "3      62.99\n",
            "4      62.99\n",
            "5      62.99\n",
            "6      56.69\n",
            "7      30.00\n",
            "8     100.00\n",
            "9      25.99\n",
            "10     10.00\n",
            "11      8.00\n",
            "12     70.00\n",
            "13     89.00\n",
            "14     55.99\n",
            "Name: prices.amountavg, dtype: float64\n"
          ],
          "name": "stdout"
        }
      ]
    },
    {
      "cell_type": "code",
      "metadata": {
        "id": "BYvk6ktf2SOa",
        "colab": {
          "base_uri": "https://localhost:8080/",
          "height": 288
        },
        "outputId": "7ecb8915-96fd-43a5-abb4-0e7767051ad2"
      },
      "source": [
        "data[['prices.amountmin','prices.amountavg','prices.amountmax']].describe()"
      ],
      "execution_count": null,
      "outputs": [
        {
          "output_type": "execute_result",
          "data": {
            "text/html": [
              "<div>\n",
              "<style scoped>\n",
              "    .dataframe tbody tr th:only-of-type {\n",
              "        vertical-align: middle;\n",
              "    }\n",
              "\n",
              "    .dataframe tbody tr th {\n",
              "        vertical-align: top;\n",
              "    }\n",
              "\n",
              "    .dataframe thead th {\n",
              "        text-align: right;\n",
              "    }\n",
              "</style>\n",
              "<table border=\"1\" class=\"dataframe\">\n",
              "  <thead>\n",
              "    <tr style=\"text-align: right;\">\n",
              "      <th></th>\n",
              "      <th>prices.amountmin</th>\n",
              "      <th>prices.amountavg</th>\n",
              "      <th>prices.amountmax</th>\n",
              "    </tr>\n",
              "  </thead>\n",
              "  <tbody>\n",
              "    <tr>\n",
              "      <th>count</th>\n",
              "      <td>33801.000000</td>\n",
              "      <td>33801.000000</td>\n",
              "      <td>33801.000000</td>\n",
              "    </tr>\n",
              "    <tr>\n",
              "      <th>mean</th>\n",
              "      <td>87.655798</td>\n",
              "      <td>88.303038</td>\n",
              "      <td>88.950277</td>\n",
              "    </tr>\n",
              "    <tr>\n",
              "      <th>std</th>\n",
              "      <td>146.158393</td>\n",
              "      <td>147.504127</td>\n",
              "      <td>151.579682</td>\n",
              "    </tr>\n",
              "    <tr>\n",
              "      <th>min</th>\n",
              "      <td>0.010000</td>\n",
              "      <td>0.010000</td>\n",
              "      <td>0.010000</td>\n",
              "    </tr>\n",
              "    <tr>\n",
              "      <th>25%</th>\n",
              "      <td>33.990000</td>\n",
              "      <td>34.190000</td>\n",
              "      <td>34.390000</td>\n",
              "    </tr>\n",
              "    <tr>\n",
              "      <th>50%</th>\n",
              "      <td>52.990000</td>\n",
              "      <td>53.160000</td>\n",
              "      <td>53.560000</td>\n",
              "    </tr>\n",
              "    <tr>\n",
              "      <th>75%</th>\n",
              "      <td>89.000000</td>\n",
              "      <td>89.950000</td>\n",
              "      <td>89.950000</td>\n",
              "    </tr>\n",
              "    <tr>\n",
              "      <th>max</th>\n",
              "      <td>4270.000000</td>\n",
              "      <td>4270.000000</td>\n",
              "      <td>5200.000000</td>\n",
              "    </tr>\n",
              "  </tbody>\n",
              "</table>\n",
              "</div>"
            ],
            "text/plain": [
              "       prices.amountmin  prices.amountavg  prices.amountmax\n",
              "count      33801.000000      33801.000000      33801.000000\n",
              "mean          87.655798         88.303038         88.950277\n",
              "std          146.158393        147.504127        151.579682\n",
              "min            0.010000          0.010000          0.010000\n",
              "25%           33.990000         34.190000         34.390000\n",
              "50%           52.990000         53.160000         53.560000\n",
              "75%           89.000000         89.950000         89.950000\n",
              "max         4270.000000       4270.000000       5200.000000"
            ]
          },
          "metadata": {
            "tags": []
          },
          "execution_count": 160
        }
      ]
    },
    {
      "cell_type": "code",
      "metadata": {
        "id": "ns0e9Jnl2W-q"
      },
      "source": [
        "# Dropping unneccessary columns\r\n",
        "data = data.drop(['descriptions', 'skus', 'imageurls', 'sourceurls', 'manufacturernumber', 'prices.sourceurls', 'quantities'], axis = 1)"
      ],
      "execution_count": null,
      "outputs": []
    },
    {
      "cell_type": "code",
      "metadata": {
        "id": "pDuX-LXM2-0s",
        "colab": {
          "base_uri": "https://localhost:8080/"
        },
        "outputId": "a80fec25-69a6-4930-bf3e-283152c8690c"
      },
      "source": [
        "data.columns"
      ],
      "execution_count": null,
      "outputs": [
        {
          "output_type": "execute_result",
          "data": {
            "text/plain": [
              "Index(['id', 'brand', 'categories', 'colors', 'dateadded', 'dateupdated',\n",
              "       'features', 'keys', 'name', 'prices.amountmin', 'prices.amountmax',\n",
              "       'prices.color', 'prices.currency', 'prices.dateadded',\n",
              "       'prices.dateseen', 'prices.issale', 'prices.merchant', 'brand_clean',\n",
              "       'prices.amountavg'],\n",
              "      dtype='object')"
            ]
          },
          "metadata": {
            "tags": []
          },
          "execution_count": 162
        }
      ]
    },
    {
      "cell_type": "code",
      "metadata": {
        "id": "sm4wcjhQ222C",
        "colab": {
          "base_uri": "https://localhost:8080/",
          "height": 638
        },
        "outputId": "fc901ccf-2b7e-4a06-eff5-c55720637618"
      },
      "source": [
        "data.head().T"
      ],
      "execution_count": null,
      "outputs": [
        {
          "output_type": "execute_result",
          "data": {
            "text/html": [
              "<div>\n",
              "<style scoped>\n",
              "    .dataframe tbody tr th:only-of-type {\n",
              "        vertical-align: middle;\n",
              "    }\n",
              "\n",
              "    .dataframe tbody tr th {\n",
              "        vertical-align: top;\n",
              "    }\n",
              "\n",
              "    .dataframe thead th {\n",
              "        text-align: right;\n",
              "    }\n",
              "</style>\n",
              "<table border=\"1\" class=\"dataframe\">\n",
              "  <thead>\n",
              "    <tr style=\"text-align: right;\">\n",
              "      <th></th>\n",
              "      <th>0</th>\n",
              "      <th>1</th>\n",
              "      <th>2</th>\n",
              "      <th>3</th>\n",
              "      <th>4</th>\n",
              "    </tr>\n",
              "  </thead>\n",
              "  <tbody>\n",
              "    <tr>\n",
              "      <th>id</th>\n",
              "      <td>AVpe__eOilAPnD_xSt-H</td>\n",
              "      <td>AVpe__eOilAPnD_xSt-H</td>\n",
              "      <td>AVpe__eOilAPnD_xSt-H</td>\n",
              "      <td>AVpe__eOilAPnD_xSt-H</td>\n",
              "      <td>AVpe__eOilAPnD_xSt-H</td>\n",
              "    </tr>\n",
              "    <tr>\n",
              "      <th>brand</th>\n",
              "      <td>Novica</td>\n",
              "      <td>Novica</td>\n",
              "      <td>Novica</td>\n",
              "      <td>Novica</td>\n",
              "      <td>Novica</td>\n",
              "    </tr>\n",
              "    <tr>\n",
              "      <th>categories</th>\n",
              "      <td>Access.,Clothing,Shoes,Women's Clothing</td>\n",
              "      <td>Access.,Clothing,Shoes,Women's Clothing</td>\n",
              "      <td>Access.,Clothing,Shoes,Women's Clothing</td>\n",
              "      <td>Access.,Clothing,Shoes,Women's Clothing</td>\n",
              "      <td>Access.,Clothing,Shoes,Women's Clothing</td>\n",
              "    </tr>\n",
              "    <tr>\n",
              "      <th>colors</th>\n",
              "      <td>purple</td>\n",
              "      <td>purple</td>\n",
              "      <td>purple</td>\n",
              "      <td>purple</td>\n",
              "      <td>purple</td>\n",
              "    </tr>\n",
              "    <tr>\n",
              "      <th>dateadded</th>\n",
              "      <td>2017-02-03T22:06:24Z</td>\n",
              "      <td>2017-02-03T22:06:24Z</td>\n",
              "      <td>2017-02-03T22:06:24Z</td>\n",
              "      <td>2017-02-03T22:06:24Z</td>\n",
              "      <td>2017-02-03T22:06:24Z</td>\n",
              "    </tr>\n",
              "    <tr>\n",
              "      <th>dateupdated</th>\n",
              "      <td>2017-03-28T11:53:51Z</td>\n",
              "      <td>2017-03-28T11:53:51Z</td>\n",
              "      <td>2017-03-28T11:53:51Z</td>\n",
              "      <td>2017-03-28T11:53:51Z</td>\n",
              "      <td>2017-03-28T11:53:51Z</td>\n",
              "    </tr>\n",
              "    <tr>\n",
              "      <th>features</th>\n",
              "      <td>[{\"key\":\"Pattern\",\"value\":[\"Solid\"]},{\"key\":\"W...</td>\n",
              "      <td>[{\"key\":\"Pattern\",\"value\":[\"Solid\"]},{\"key\":\"W...</td>\n",
              "      <td>[{\"key\":\"Pattern\",\"value\":[\"Solid\"]},{\"key\":\"W...</td>\n",
              "      <td>[{\"key\":\"Pattern\",\"value\":[\"Solid\"]},{\"key\":\"W...</td>\n",
              "      <td>[{\"key\":\"Pattern\",\"value\":[\"Solid\"]},{\"key\":\"W...</td>\n",
              "    </tr>\n",
              "    <tr>\n",
              "      <th>keys</th>\n",
              "      <td>handcraftedalpacablendpurplecharismasweaterper...</td>\n",
              "      <td>handcraftedalpacablendpurplecharismasweaterper...</td>\n",
              "      <td>handcraftedalpacablendpurplecharismasweaterper...</td>\n",
              "      <td>handcraftedalpacablendpurplecharismasweaterper...</td>\n",
              "      <td>handcraftedalpacablendpurplecharismasweaterper...</td>\n",
              "    </tr>\n",
              "    <tr>\n",
              "      <th>name</th>\n",
              "      <td>Handcrafted Alpaca Blend 'Purple Charisma' Swe...</td>\n",
              "      <td>Handcrafted Alpaca Blend 'Purple Charisma' Swe...</td>\n",
              "      <td>Handcrafted Alpaca Blend 'Purple Charisma' Swe...</td>\n",
              "      <td>Handcrafted Alpaca Blend 'Purple Charisma' Swe...</td>\n",
              "      <td>Handcrafted Alpaca Blend 'Purple Charisma' Swe...</td>\n",
              "    </tr>\n",
              "    <tr>\n",
              "      <th>prices.amountmin</th>\n",
              "      <td>62.99</td>\n",
              "      <td>62.99</td>\n",
              "      <td>62.99</td>\n",
              "      <td>62.99</td>\n",
              "      <td>62.99</td>\n",
              "    </tr>\n",
              "    <tr>\n",
              "      <th>prices.amountmax</th>\n",
              "      <td>62.99</td>\n",
              "      <td>62.99</td>\n",
              "      <td>62.99</td>\n",
              "      <td>62.99</td>\n",
              "      <td>62.99</td>\n",
              "    </tr>\n",
              "    <tr>\n",
              "      <th>prices.color</th>\n",
              "      <td>NaN</td>\n",
              "      <td>NaN</td>\n",
              "      <td>NaN</td>\n",
              "      <td>NaN</td>\n",
              "      <td>NaN</td>\n",
              "    </tr>\n",
              "    <tr>\n",
              "      <th>prices.currency</th>\n",
              "      <td>USD</td>\n",
              "      <td>USD</td>\n",
              "      <td>USD</td>\n",
              "      <td>USD</td>\n",
              "      <td>USD</td>\n",
              "    </tr>\n",
              "    <tr>\n",
              "      <th>prices.dateadded</th>\n",
              "      <td>2017-03-28T11:53:51Z</td>\n",
              "      <td>2017-03-28T11:53:51Z</td>\n",
              "      <td>2017-03-28T11:53:51Z</td>\n",
              "      <td>2017-03-28T11:53:51Z</td>\n",
              "      <td>2017-03-02T16:48:44Z</td>\n",
              "    </tr>\n",
              "    <tr>\n",
              "      <th>prices.dateseen</th>\n",
              "      <td>2017-03-26T05:04:46.539Z</td>\n",
              "      <td>2017-03-26T05:04:46.539Z</td>\n",
              "      <td>2017-03-26T05:04:46.539Z</td>\n",
              "      <td>2017-03-26T05:04:46.539Z</td>\n",
              "      <td>2017-02-08T07:38:48.129Z</td>\n",
              "    </tr>\n",
              "    <tr>\n",
              "      <th>prices.issale</th>\n",
              "      <td>False</td>\n",
              "      <td>False</td>\n",
              "      <td>False</td>\n",
              "      <td>False</td>\n",
              "      <td>True</td>\n",
              "    </tr>\n",
              "    <tr>\n",
              "      <th>prices.merchant</th>\n",
              "      <td>Overstock.com</td>\n",
              "      <td>Overstock.com</td>\n",
              "      <td>Overstock.com</td>\n",
              "      <td>Overstock.com</td>\n",
              "      <td>Overstock.com</td>\n",
              "    </tr>\n",
              "    <tr>\n",
              "      <th>brand_clean</th>\n",
              "      <td>Novica</td>\n",
              "      <td>Novica</td>\n",
              "      <td>Novica</td>\n",
              "      <td>Novica</td>\n",
              "      <td>Novica</td>\n",
              "    </tr>\n",
              "    <tr>\n",
              "      <th>prices.amountavg</th>\n",
              "      <td>62.99</td>\n",
              "      <td>62.99</td>\n",
              "      <td>62.99</td>\n",
              "      <td>62.99</td>\n",
              "      <td>62.99</td>\n",
              "    </tr>\n",
              "  </tbody>\n",
              "</table>\n",
              "</div>"
            ],
            "text/plain": [
              "                                                                  0  ...                                                  4\n",
              "id                                             AVpe__eOilAPnD_xSt-H  ...                               AVpe__eOilAPnD_xSt-H\n",
              "brand                                                        Novica  ...                                             Novica\n",
              "categories                  Access.,Clothing,Shoes,Women's Clothing  ...            Access.,Clothing,Shoes,Women's Clothing\n",
              "colors                                                       purple  ...                                             purple\n",
              "dateadded                                      2017-02-03T22:06:24Z  ...                               2017-02-03T22:06:24Z\n",
              "dateupdated                                    2017-03-28T11:53:51Z  ...                               2017-03-28T11:53:51Z\n",
              "features          [{\"key\":\"Pattern\",\"value\":[\"Solid\"]},{\"key\":\"W...  ...  [{\"key\":\"Pattern\",\"value\":[\"Solid\"]},{\"key\":\"W...\n",
              "keys              handcraftedalpacablendpurplecharismasweaterper...  ...  handcraftedalpacablendpurplecharismasweaterper...\n",
              "name              Handcrafted Alpaca Blend 'Purple Charisma' Swe...  ...  Handcrafted Alpaca Blend 'Purple Charisma' Swe...\n",
              "prices.amountmin                                              62.99  ...                                              62.99\n",
              "prices.amountmax                                              62.99  ...                                              62.99\n",
              "prices.color                                                    NaN  ...                                                NaN\n",
              "prices.currency                                                 USD  ...                                                USD\n",
              "prices.dateadded                               2017-03-28T11:53:51Z  ...                               2017-03-02T16:48:44Z\n",
              "prices.dateseen                            2017-03-26T05:04:46.539Z  ...                           2017-02-08T07:38:48.129Z\n",
              "prices.issale                                                 False  ...                                               True\n",
              "prices.merchant                                       Overstock.com  ...                                      Overstock.com\n",
              "brand_clean                                                  Novica  ...                                             Novica\n",
              "prices.amountavg                                              62.99  ...                                              62.99\n",
              "\n",
              "[19 rows x 5 columns]"
            ]
          },
          "metadata": {
            "tags": []
          },
          "execution_count": 163
        }
      ]
    },
    {
      "cell_type": "code",
      "metadata": {
        "id": "8ZTWqdwX25-G",
        "colab": {
          "base_uri": "https://localhost:8080/"
        },
        "outputId": "b0d0964f-da55-4439-a9d2-8739f9098bbc"
      },
      "source": [
        "data.shape"
      ],
      "execution_count": null,
      "outputs": [
        {
          "output_type": "execute_result",
          "data": {
            "text/plain": [
              "(33801, 19)"
            ]
          },
          "metadata": {
            "tags": []
          },
          "execution_count": 164
        }
      ]
    },
    {
      "cell_type": "code",
      "metadata": {
        "id": "fvJuSfye3gcQ",
        "colab": {
          "base_uri": "https://localhost:8080/"
        },
        "outputId": "a4e4bd84-40ac-46a2-f2ae-2dd2f16ff3fb"
      },
      "source": [
        "# Checking the currency \n",
        "data['prices.currency'].value_counts()"
      ],
      "execution_count": null,
      "outputs": [
        {
          "output_type": "execute_result",
          "data": {
            "text/plain": [
              "USD    32680\n",
              "CAD     1008\n",
              "EUR      101\n",
              "AUD       11\n",
              "GBP        1\n",
              "Name: prices.currency, dtype: int64"
            ]
          },
          "metadata": {
            "tags": []
          },
          "execution_count": 165
        }
      ]
    },
    {
      "cell_type": "code",
      "metadata": {
        "id": "1poYq7lN6q-M",
        "colab": {
          "base_uri": "https://localhost:8080/"
        },
        "outputId": "9c61a22f-def5-4f17-91f5-d224084d9f29"
      },
      "source": [
        "# Keeping data with only 'USD' currency\n",
        "data = data[data['prices.currency']=='USD']\n",
        "data['prices.currency'].value_counts()"
      ],
      "execution_count": null,
      "outputs": [
        {
          "output_type": "execute_result",
          "data": {
            "text/plain": [
              "USD    32680\n",
              "Name: prices.currency, dtype: int64"
            ]
          },
          "metadata": {
            "tags": []
          },
          "execution_count": 166
        }
      ]
    },
    {
      "cell_type": "code",
      "metadata": {
        "id": "xYdhoe4A8y88",
        "colab": {
          "base_uri": "https://localhost:8080/"
        },
        "outputId": "9b46b7d7-99c1-4ad5-a0dc-f1f52b2bb693"
      },
      "source": [
        "data['prices.amountmax'].describe()"
      ],
      "execution_count": null,
      "outputs": [
        {
          "output_type": "execute_result",
          "data": {
            "text/plain": [
              "count    32680.000000\n",
              "mean        88.240367\n",
              "std        146.657391\n",
              "min          0.010000\n",
              "25%         33.990000\n",
              "50%         51.990000\n",
              "75%         89.000000\n",
              "max       4198.990000\n",
              "Name: prices.amountmax, dtype: float64"
            ]
          },
          "metadata": {
            "tags": []
          },
          "execution_count": 167
        }
      ]
    },
    {
      "cell_type": "code",
      "metadata": {
        "id": "_AOxO6Ia7MfF",
        "colab": {
          "base_uri": "https://localhost:8080/",
          "height": 517
        },
        "outputId": "83b4ccb4-0c7d-45e9-ba67-5af0593ceff9"
      },
      "source": [
        "# How expensive are shoes\n",
        "print('The average shoe price is {:,.0f} dollars, the median {:,.0f} '.format(\n",
        "    data['prices.amountmax'].mean(), data['prices.amountmax'].median()))\n",
        "\n",
        "data['prices.amountmax'].hist(bins=10, rwidth=.8, figsize=(12,8))\n",
        "plt.title('Price of shoes')\n",
        "plt.show()"
      ],
      "execution_count": null,
      "outputs": [
        {
          "output_type": "stream",
          "text": [
            "The average shoe price is 88 dollars, the median 52 \n"
          ],
          "name": "stdout"
        },
        {
          "output_type": "display_data",
          "data": {
            "image/png": "[encoded data removed]",
            "text/plain": [
              "<Figure size 864x576 with 1 Axes>"
            ]
          },
          "metadata": {
            "tags": [],
            "needs_background": "light"
          }
        }
      ]
    },
    {
      "cell_type": "code",
      "metadata": {
        "id": "quXEnU-K7Tqo",
        "colab": {
          "base_uri": "https://localhost:8080/",
          "height": 337
        },
        "outputId": "5e781d92-5366-4776-f6b8-5f7f6d90a1e5"
      },
      "source": [
        "plt.hist(data['prices.amountmax'], bins = 10, range=(0,500))"
      ],
      "execution_count": null,
      "outputs": [
        {
          "output_type": "execute_result",
          "data": {
            "text/plain": [
              "(array([15664., 10365.,  3573.,  1493.,   292.,   169.,    47.,   150.,\n",
              "           23.,    29.]),\n",
              " array([  0.,  50., 100., 150., 200., 250., 300., 350., 400., 450., 500.]),\n",
              " <a list of 10 Patch objects>)"
            ]
          },
          "metadata": {
            "tags": []
          },
          "execution_count": 169
        },
        {
          "output_type": "display_data",
          "data": {
            "image/png": "[encoded data removed]",
            "text/plain": [
              "<Figure size 432x288 with 1 Axes>"
            ]
          },
          "metadata": {
            "tags": [],
            "needs_background": "light"
          }
        }
      ]
    },
    {
      "cell_type": "code",
      "metadata": {
        "colab": {
          "base_uri": "https://localhost:8080/"
        },
        "id": "TpCDfytRCwfk",
        "outputId": "9c099043-0a1b-41bc-9384-be8eaffaa21a"
      },
      "source": [
        "data['prices.amountavg'].describe()"
      ],
      "execution_count": null,
      "outputs": [
        {
          "output_type": "execute_result",
          "data": {
            "text/plain": [
              "count    32680.000000\n",
              "mean        87.785046\n",
              "std        146.498374\n",
              "min          0.010000\n",
              "25%         33.990000\n",
              "50%         51.990000\n",
              "75%         88.950000\n",
              "max       4198.990000\n",
              "Name: prices.amountavg, dtype: float64"
            ]
          },
          "metadata": {
            "tags": []
          },
          "execution_count": 170
        }
      ]
    },
    {
      "cell_type": "code",
      "metadata": {
        "colab": {
          "base_uri": "https://localhost:8080/",
          "height": 445
        },
        "id": "5ydAZfGu_plC",
        "outputId": "5411b324-0746-4589-bba5-65071bdf3df9"
      },
      "source": [
        "# price distribution plot\n",
        "plt.figure(figsize=(10,6))\n",
        "sns.distplot(data['prices.amountmax'])\n",
        "plt.show()"
      ],
      "execution_count": null,
      "outputs": [
        {
          "output_type": "stream",
          "text": [
            "/usr/local/lib/python3.6/dist-packages/seaborn/distributions.py:2551: FutureWarning: `distplot` is a deprecated function and will be removed in a future version. Please adapt your code to use either `displot` (a figure-level function with similar flexibility) or `histplot` (an axes-level function for histograms).\n",
            "  warnings.warn(msg, FutureWarning)\n"
          ],
          "name": "stderr"
        },
        {
          "output_type": "display_data",
          "data": {
            "image/png": "[encoded data removed]",
            "text/plain": [
              "<Figure size 720x432 with 1 Axes>"
            ]
          },
          "metadata": {
            "tags": [],
            "needs_background": "light"
          }
        }
      ]
    },
    {
      "cell_type": "code",
      "metadata": {
        "id": "6fNhcvo48ld2",
        "colab": {
          "base_uri": "https://localhost:8080/"
        },
        "outputId": "1174854f-1152-40db-b735-52e53d457208"
      },
      "source": [
        "# Checking the brand names and their value counts \n",
        "data.groupby(['brand']).size().head(15)"
      ],
      "execution_count": null,
      "outputs": [
        {
          "output_type": "execute_result",
          "data": {
            "text/plain": [
              "brand\n",
              "1 World Sarongs         23\n",
              "143 GIRL                 5\n",
              "143 Girl                 3\n",
              "2 Lips Too              21\n",
              "361                      1\n",
              "79 SCII                  1\n",
              "90 Degree by Reflex      1\n",
              "A'rcopedico              2\n",
              "A2 BY AEROSOLES          2\n",
              "A2 By Aerosoles          6\n",
              "A2 by Aerosoles        188\n",
              "ADI                     21\n",
              "AGL                     11\n",
              "AMALFI BY RANGONI        4\n",
              "ANNE KLEIN SPORT         7\n",
              "dtype: int64"
            ]
          },
          "metadata": {
            "tags": []
          },
          "execution_count": 172
        }
      ]
    },
    {
      "cell_type": "code",
      "metadata": {
        "id": "kEyvHWou98JM",
        "colab": {
          "base_uri": "https://localhost:8080/"
        },
        "outputId": "980f2ee5-1ff8-4788-bdd8-4facf71178b4"
      },
      "source": [
        "data.dtypes"
      ],
      "execution_count": null,
      "outputs": [
        {
          "output_type": "execute_result",
          "data": {
            "text/plain": [
              "id                   object\n",
              "brand                object\n",
              "categories           object\n",
              "colors               object\n",
              "dateadded            object\n",
              "dateupdated          object\n",
              "features             object\n",
              "keys                 object\n",
              "name                 object\n",
              "prices.amountmin    float64\n",
              "prices.amountmax    float64\n",
              "prices.color         object\n",
              "prices.currency      object\n",
              "prices.dateadded     object\n",
              "prices.dateseen      object\n",
              "prices.issale          bool\n",
              "prices.merchant      object\n",
              "brand_clean          object\n",
              "prices.amountavg    float64\n",
              "dtype: object"
            ]
          },
          "metadata": {
            "tags": []
          },
          "execution_count": 173
        }
      ]
    },
    {
      "cell_type": "code",
      "metadata": {
        "id": "6ORIzwdV-EyO",
        "colab": {
          "base_uri": "https://localhost:8080/"
        },
        "outputId": "8d1bc6e2-074c-4f39-a91c-8cd787e06dd3"
      },
      "source": [
        "counts=data['brand'].value_counts()\n",
        "counts.head(10)"
      ],
      "execution_count": null,
      "outputs": [
        {
          "output_type": "execute_result",
          "data": {
            "text/plain": [
              "Journee Collection    1401\n",
              "Ralph Lauren           991\n",
              "Skechers               799\n",
              "Propet                 796\n",
              "Nike                   649\n",
              "Novica                 574\n",
              "Easy Spirit            487\n",
              "TOMS                   408\n",
              "Drew                   387\n",
              "Soft Style             365\n",
              "Name: brand, dtype: int64"
            ]
          },
          "metadata": {
            "tags": []
          },
          "execution_count": 174
        }
      ]
    },
    {
      "cell_type": "code",
      "metadata": {
        "id": "qxbCukDa-lRQ",
        "colab": {
          "base_uri": "https://localhost:8080/"
        },
        "outputId": "28f1d949-08c0-466e-956c-b102f1b6e69a"
      },
      "source": [
        "# brands sold more than 100 pair of shoes\n",
        "nbrand=counts[counts>=100]\n",
        "nbrand.head()"
      ],
      "execution_count": null,
      "outputs": [
        {
          "output_type": "execute_result",
          "data": {
            "text/plain": [
              "Journee Collection    1401\n",
              "Ralph Lauren           991\n",
              "Skechers               799\n",
              "Propet                 796\n",
              "Nike                   649\n",
              "Name: brand, dtype: int64"
            ]
          },
          "metadata": {
            "tags": []
          },
          "execution_count": 175
        }
      ]
    },
    {
      "cell_type": "code",
      "metadata": {
        "id": "IVUrCYWY-pzS",
        "colab": {
          "base_uri": "https://localhost:8080/"
        },
        "outputId": "cb1220b7-711e-4db1-d452-aae30e4c44e4"
      },
      "source": [
        "saledf= data['prices.issale']\n",
        "saledf.head()"
      ],
      "execution_count": null,
      "outputs": [
        {
          "output_type": "execute_result",
          "data": {
            "text/plain": [
              "0    False\n",
              "1    False\n",
              "2    False\n",
              "3    False\n",
              "4     True\n",
              "Name: prices.issale, dtype: bool"
            ]
          },
          "metadata": {
            "tags": []
          },
          "execution_count": 176
        }
      ]
    },
    {
      "cell_type": "code",
      "metadata": {
        "id": "tuhWenl7nO-O"
      },
      "source": [
        "# Removing spam samples\n",
        "import re\n",
        "idx_notshoe = data['features'].str.contains(\"socks|speaker|bluetooth|microphone|phone|india|patiala|cotton|wool|kid|junior|\\\n",
        "                            sweater|shirt|blouse|pedicure|kurta|kurti|tunic|handbag|bag|tote bag|purse|dress|legging|\\\n",
        "                            chain|hair accessories|hair clip|hair|claw|hair clamp|watch|bracelet|skirt|denim|sweatshirt|\\\n",
        "                            hoodie|top|sundress|robe|halloween|costume|pant|suit\",\n",
        "                                           flags=re.IGNORECASE)\n",
        "idx_notshoe.fillna(False, inplace=True)\n",
        "data = data.loc[~idx_notshoe,:]"
      ],
      "execution_count": null,
      "outputs": []
    },
    {
      "cell_type": "code",
      "metadata": {
        "id": "jxB7UB8m_J3Y",
        "colab": {
          "base_uri": "https://localhost:8080/",
          "height": 720
        },
        "outputId": "6b9b556e-3004-46db-bd35-488cd58d2591"
      },
      "source": [
        "#creating a new column with boolean values.Shoes priced over $100 is expensive,under 100 is affordable.\n",
        "data['price.stat']=(data['prices.amountmax']>100)\n",
        "data.head().T"
      ],
      "execution_count": null,
      "outputs": [
        {
          "output_type": "execute_result",
          "data": {
            "text/html": [
              "<div>\n",
              "<style scoped>\n",
              "    .dataframe tbody tr th:only-of-type {\n",
              "        vertical-align: middle;\n",
              "    }\n",
              "\n",
              "    .dataframe tbody tr th {\n",
              "        vertical-align: top;\n",
              "    }\n",
              "\n",
              "    .dataframe thead th {\n",
              "        text-align: right;\n",
              "    }\n",
              "</style>\n",
              "<table border=\"1\" class=\"dataframe\">\n",
              "  <thead>\n",
              "    <tr style=\"text-align: right;\">\n",
              "      <th></th>\n",
              "      <th>7</th>\n",
              "      <th>10</th>\n",
              "      <th>11</th>\n",
              "      <th>19</th>\n",
              "      <th>20</th>\n",
              "    </tr>\n",
              "  </thead>\n",
              "  <tbody>\n",
              "    <tr>\n",
              "      <th>id</th>\n",
              "      <td>AVpe__JXilAPnD_xSt3F</td>\n",
              "      <td>AVpe_0ob1cnluZ0-bnWr</td>\n",
              "      <td>AVpe_0ob1cnluZ0-bnWr</td>\n",
              "      <td>AVpe_1KTilAPnD_xSqVK</td>\n",
              "      <td>AVpe_1KTilAPnD_xSqVK</td>\n",
              "    </tr>\n",
              "    <tr>\n",
              "      <th>brand</th>\n",
              "      <td>Pedi Couture</td>\n",
              "      <td>BEAUTIFEET</td>\n",
              "      <td>BEAUTIFEET</td>\n",
              "      <td>INC International Concepts</td>\n",
              "      <td>INC International Concepts</td>\n",
              "    </tr>\n",
              "    <tr>\n",
              "      <th>categories</th>\n",
              "      <td>Clothing,Shoes,Women's Shoes,All Women's Shoes</td>\n",
              "      <td>Shoes,Women's Shoes,Clothing,All Women's Shoes</td>\n",
              "      <td>Shoes,Women's Shoes,Clothing,All Women's Shoes</td>\n",
              "      <td>Shoes,Women's Shoes,Clothing,All Women's Shoes</td>\n",
              "      <td>Shoes,Women's Shoes,Clothing,All Women's Shoes</td>\n",
              "    </tr>\n",
              "    <tr>\n",
              "      <th>colors</th>\n",
              "      <td>blue snake</td>\n",
              "      <td>multicolor,multi</td>\n",
              "      <td>multicolor,multi</td>\n",
              "      <td>green</td>\n",
              "      <td>green</td>\n",
              "    </tr>\n",
              "    <tr>\n",
              "      <th>dateadded</th>\n",
              "      <td>2016-11-10T09:13:23Z</td>\n",
              "      <td>2016-11-04T03:11:11Z</td>\n",
              "      <td>2016-11-04T03:11:11Z</td>\n",
              "      <td>2016-10-27T04:25:08Z</td>\n",
              "      <td>2016-10-27T04:25:08Z</td>\n",
              "    </tr>\n",
              "    <tr>\n",
              "      <th>dateupdated</th>\n",
              "      <td>2016-11-10T09:13:23Z</td>\n",
              "      <td>2016-11-04T03:11:11Z</td>\n",
              "      <td>2016-11-04T03:11:11Z</td>\n",
              "      <td>2016-10-27T04:25:08Z</td>\n",
              "      <td>2016-10-27T04:25:08Z</td>\n",
              "    </tr>\n",
              "    <tr>\n",
              "      <th>features</th>\n",
              "      <td>[{\"key\":\"Assembled Product Dimensions (L x W x...</td>\n",
              "      <td>[{\"key\":\"Recommended Use\",\"value\":[\"NOT STATED...</td>\n",
              "      <td>[{\"key\":\"Recommended Use\",\"value\":[\"NOT STATED...</td>\n",
              "      <td>[{\"key\":\"Material\",\"value\":[\"Suede\"]},{\"key\":\"...</td>\n",
              "      <td>[{\"key\":\"Material\",\"value\":[\"Suede\"]},{\"key\":\"...</td>\n",
              "    </tr>\n",
              "    <tr>\n",
              "      <th>keys</th>\n",
              "      <td>83,961,324,637,083,900,000,000</td>\n",
              "      <td>096506461056,0096506461056,sofcomfortwomenseve...</td>\n",
              "      <td>096506461056,0096506461056,sofcomfortwomenseve...</td>\n",
              "      <td>689439746217,0689439746217,incinternationalcon...</td>\n",
              "      <td>689439746217,0689439746217,incinternationalcon...</td>\n",
              "    </tr>\n",
              "    <tr>\n",
              "      <th>name</th>\n",
              "      <td>Pedi Couture Women's Blue Snake Pedicure Spa T...</td>\n",
              "      <td>Sof Comfort Women's Everyday Gel Insoles, 2-pair</td>\n",
              "      <td>Sof Comfort Women's Everyday Gel Insoles, 2-pair</td>\n",
              "      <td>Inc International Concepts Britanii   Pointed ...</td>\n",
              "      <td>Inc International Concepts Britanii   Pointed ...</td>\n",
              "    </tr>\n",
              "    <tr>\n",
              "      <th>prices.amountmin</th>\n",
              "      <td>30</td>\n",
              "      <td>10</td>\n",
              "      <td>8</td>\n",
              "      <td>90</td>\n",
              "      <td>39.99</td>\n",
              "    </tr>\n",
              "    <tr>\n",
              "      <th>prices.amountmax</th>\n",
              "      <td>30</td>\n",
              "      <td>10</td>\n",
              "      <td>8</td>\n",
              "      <td>90</td>\n",
              "      <td>39.99</td>\n",
              "    </tr>\n",
              "    <tr>\n",
              "      <th>prices.color</th>\n",
              "      <td>NaN</td>\n",
              "      <td>NaN</td>\n",
              "      <td>NaN</td>\n",
              "      <td>NaN</td>\n",
              "      <td>NaN</td>\n",
              "    </tr>\n",
              "    <tr>\n",
              "      <th>prices.currency</th>\n",
              "      <td>USD</td>\n",
              "      <td>USD</td>\n",
              "      <td>USD</td>\n",
              "      <td>USD</td>\n",
              "      <td>USD</td>\n",
              "    </tr>\n",
              "    <tr>\n",
              "      <th>prices.dateadded</th>\n",
              "      <td>2016-11-10T09:13:23Z</td>\n",
              "      <td>2016-11-04T03:11:11Z</td>\n",
              "      <td>2016-11-04T03:11:11Z</td>\n",
              "      <td>2016-10-27T04:25:08Z</td>\n",
              "      <td>2016-10-27T04:25:08Z</td>\n",
              "    </tr>\n",
              "    <tr>\n",
              "      <th>prices.dateseen</th>\n",
              "      <td>2016-11-09T00:00:00Z</td>\n",
              "      <td>2016-11-03T00:00:00Z</td>\n",
              "      <td>2015-11-03T00:00:00Z</td>\n",
              "      <td>2016-10-25T00:00:00Z</td>\n",
              "      <td>2016-10-25T00:00:00Z</td>\n",
              "    </tr>\n",
              "    <tr>\n",
              "      <th>prices.issale</th>\n",
              "      <td>False</td>\n",
              "      <td>False</td>\n",
              "      <td>False</td>\n",
              "      <td>False</td>\n",
              "      <td>True</td>\n",
              "    </tr>\n",
              "    <tr>\n",
              "      <th>prices.merchant</th>\n",
              "      <td>Big Deal Hunter - Walmart.com</td>\n",
              "      <td>Walmart store - Walmart.com</td>\n",
              "      <td>Walmart store - Walmart.com</td>\n",
              "      <td>ApparelSave - Walmart.com</td>\n",
              "      <td>NaN</td>\n",
              "    </tr>\n",
              "    <tr>\n",
              "      <th>brand_clean</th>\n",
              "      <td>Pedi Couture</td>\n",
              "      <td>BEAUTIFEET</td>\n",
              "      <td>BEAUTIFEET</td>\n",
              "      <td>INC International Concepts</td>\n",
              "      <td>INC International Concepts</td>\n",
              "    </tr>\n",
              "    <tr>\n",
              "      <th>prices.amountavg</th>\n",
              "      <td>30</td>\n",
              "      <td>10</td>\n",
              "      <td>8</td>\n",
              "      <td>90</td>\n",
              "      <td>39.99</td>\n",
              "    </tr>\n",
              "    <tr>\n",
              "      <th>price.stat</th>\n",
              "      <td>False</td>\n",
              "      <td>False</td>\n",
              "      <td>False</td>\n",
              "      <td>False</td>\n",
              "      <td>False</td>\n",
              "    </tr>\n",
              "  </tbody>\n",
              "</table>\n",
              "</div>"
            ],
            "text/plain": [
              "                                                                 7   ...                                                 20\n",
              "id                                             AVpe__JXilAPnD_xSt3F  ...                               AVpe_1KTilAPnD_xSqVK\n",
              "brand                                                  Pedi Couture  ...                         INC International Concepts\n",
              "categories           Clothing,Shoes,Women's Shoes,All Women's Shoes  ...     Shoes,Women's Shoes,Clothing,All Women's Shoes\n",
              "colors                                                   blue snake  ...                                              green\n",
              "dateadded                                      2016-11-10T09:13:23Z  ...                               2016-10-27T04:25:08Z\n",
              "dateupdated                                    2016-11-10T09:13:23Z  ...                               2016-10-27T04:25:08Z\n",
              "features          [{\"key\":\"Assembled Product Dimensions (L x W x...  ...  [{\"key\":\"Material\",\"value\":[\"Suede\"]},{\"key\":\"...\n",
              "keys                                 83,961,324,637,083,900,000,000  ...  689439746217,0689439746217,incinternationalcon...\n",
              "name              Pedi Couture Women's Blue Snake Pedicure Spa T...  ...  Inc International Concepts Britanii   Pointed ...\n",
              "prices.amountmin                                                 30  ...                                              39.99\n",
              "prices.amountmax                                                 30  ...                                              39.99\n",
              "prices.color                                                    NaN  ...                                                NaN\n",
              "prices.currency                                                 USD  ...                                                USD\n",
              "prices.dateadded                               2016-11-10T09:13:23Z  ...                               2016-10-27T04:25:08Z\n",
              "prices.dateseen                                2016-11-09T00:00:00Z  ...                               2016-10-25T00:00:00Z\n",
              "prices.issale                                                 False  ...                                               True\n",
              "prices.merchant                       Big Deal Hunter - Walmart.com  ...                                                NaN\n",
              "brand_clean                                            Pedi Couture  ...                         INC International Concepts\n",
              "prices.amountavg                                                 30  ...                                              39.99\n",
              "price.stat                                                    False  ...                                              False\n",
              "\n",
              "[20 rows x 5 columns]"
            ]
          },
          "metadata": {
            "tags": []
          },
          "execution_count": 178
        }
      ]
    },
    {
      "cell_type": "code",
      "metadata": {
        "colab": {
          "base_uri": "https://localhost:8080/"
        },
        "id": "pYVcYYo4tRFs",
        "outputId": "fba99210-3564-464c-92cd-39c207f3df4a"
      },
      "source": [
        "data['Gender'] = data['features'].str.split('\"key\":\"Gender\",\"value\":\\[\"',\n",
        "                                         expand=True)[1].str.split('\"\\]}',\n",
        "                                                                   expand=True, n=1)[0]\n",
        "data['Gender'].unique()"
      ],
      "execution_count": null,
      "outputs": [
        {
          "output_type": "execute_result",
          "data": {
            "text/plain": [
              "array(['Women', None, nan, 'Unisex', 'Men', 'Female', 'Womens', 'Boys',\n",
              "       'Men\",\"Women', 'Girls', 'Women\",\"Men', \"Women's\", 'Female\",\"Women'],\n",
              "      dtype=object)"
            ]
          },
          "metadata": {
            "tags": []
          },
          "execution_count": 179
        }
      ]
    },
    {
      "cell_type": "code",
      "metadata": {
        "id": "eldVuYXntWT0"
      },
      "source": [
        "# Since this data frame deals with just women shoes data\n",
        "data = data[(data['Gender']!='Boys')]\n",
        "data = data[(data['Gender']!='Men')]"
      ],
      "execution_count": null,
      "outputs": []
    },
    {
      "cell_type": "code",
      "metadata": {
        "id": "PSEq-Z_hxxFB"
      },
      "source": [
        "# Removing descriptive columns after extracting valuable features\r\n",
        "data.drop(['features', 'keys', 'Gender', 'name'], axis = 1, inplace = True)"
      ],
      "execution_count": null,
      "outputs": []
    },
    {
      "cell_type": "code",
      "metadata": {
        "id": "ZjOaYXC6ADFU",
        "colab": {
          "base_uri": "https://localhost:8080/"
        },
        "outputId": "66e92851-6949-4bdd-ee51-abc91dbe53a9"
      },
      "source": [
        "data.info()"
      ],
      "execution_count": null,
      "outputs": [
        {
          "output_type": "stream",
          "text": [
            "<class 'pandas.core.frame.DataFrame'>\n",
            "Int64Index: 25976 entries, 7 to 33800\n",
            "Data columns (total 17 columns):\n",
            " #   Column            Non-Null Count  Dtype  \n",
            "---  ------            --------------  -----  \n",
            " 0   id                25976 non-null  object \n",
            " 1   brand             25976 non-null  object \n",
            " 2   categories        25976 non-null  object \n",
            " 3   colors            25976 non-null  object \n",
            " 4   dateadded         25976 non-null  object \n",
            " 5   dateupdated       25976 non-null  object \n",
            " 6   prices.amountmin  25976 non-null  float64\n",
            " 7   prices.amountmax  25976 non-null  float64\n",
            " 8   prices.color      16004 non-null  object \n",
            " 9   prices.currency   25976 non-null  object \n",
            " 10  prices.dateadded  25976 non-null  object \n",
            " 11  prices.dateseen   25976 non-null  object \n",
            " 12  prices.issale     25976 non-null  bool   \n",
            " 13  prices.merchant   22859 non-null  object \n",
            " 14  brand_clean       25976 non-null  object \n",
            " 15  prices.amountavg  25976 non-null  float64\n",
            " 16  price.stat        25976 non-null  bool   \n",
            "dtypes: bool(2), float64(3), object(12)\n",
            "memory usage: 3.2+ MB\n"
          ],
          "name": "stdout"
        }
      ]
    },
    {
      "cell_type": "code",
      "metadata": {
        "colab": {
          "base_uri": "https://localhost:8080/",
          "height": 610
        },
        "id": "949Skt9-xi4a",
        "outputId": "11d12834-1d0e-4661-b619-2c07f53aa4f3"
      },
      "source": [
        "data.head().T"
      ],
      "execution_count": null,
      "outputs": [
        {
          "output_type": "execute_result",
          "data": {
            "text/html": [
              "<div>\n",
              "<style scoped>\n",
              "    .dataframe tbody tr th:only-of-type {\n",
              "        vertical-align: middle;\n",
              "    }\n",
              "\n",
              "    .dataframe tbody tr th {\n",
              "        vertical-align: top;\n",
              "    }\n",
              "\n",
              "    .dataframe thead th {\n",
              "        text-align: right;\n",
              "    }\n",
              "</style>\n",
              "<table border=\"1\" class=\"dataframe\">\n",
              "  <thead>\n",
              "    <tr style=\"text-align: right;\">\n",
              "      <th></th>\n",
              "      <th>7</th>\n",
              "      <th>10</th>\n",
              "      <th>11</th>\n",
              "      <th>19</th>\n",
              "      <th>20</th>\n",
              "    </tr>\n",
              "  </thead>\n",
              "  <tbody>\n",
              "    <tr>\n",
              "      <th>id</th>\n",
              "      <td>AVpe__JXilAPnD_xSt3F</td>\n",
              "      <td>AVpe_0ob1cnluZ0-bnWr</td>\n",
              "      <td>AVpe_0ob1cnluZ0-bnWr</td>\n",
              "      <td>AVpe_1KTilAPnD_xSqVK</td>\n",
              "      <td>AVpe_1KTilAPnD_xSqVK</td>\n",
              "    </tr>\n",
              "    <tr>\n",
              "      <th>brand</th>\n",
              "      <td>Pedi Couture</td>\n",
              "      <td>BEAUTIFEET</td>\n",
              "      <td>BEAUTIFEET</td>\n",
              "      <td>INC International Concepts</td>\n",
              "      <td>INC International Concepts</td>\n",
              "    </tr>\n",
              "    <tr>\n",
              "      <th>categories</th>\n",
              "      <td>Clothing,Shoes,Women's Shoes,All Women's Shoes</td>\n",
              "      <td>Shoes,Women's Shoes,Clothing,All Women's Shoes</td>\n",
              "      <td>Shoes,Women's Shoes,Clothing,All Women's Shoes</td>\n",
              "      <td>Shoes,Women's Shoes,Clothing,All Women's Shoes</td>\n",
              "      <td>Shoes,Women's Shoes,Clothing,All Women's Shoes</td>\n",
              "    </tr>\n",
              "    <tr>\n",
              "      <th>colors</th>\n",
              "      <td>blue snake</td>\n",
              "      <td>multicolor,multi</td>\n",
              "      <td>multicolor,multi</td>\n",
              "      <td>green</td>\n",
              "      <td>green</td>\n",
              "    </tr>\n",
              "    <tr>\n",
              "      <th>dateadded</th>\n",
              "      <td>2016-11-10T09:13:23Z</td>\n",
              "      <td>2016-11-04T03:11:11Z</td>\n",
              "      <td>2016-11-04T03:11:11Z</td>\n",
              "      <td>2016-10-27T04:25:08Z</td>\n",
              "      <td>2016-10-27T04:25:08Z</td>\n",
              "    </tr>\n",
              "    <tr>\n",
              "      <th>dateupdated</th>\n",
              "      <td>2016-11-10T09:13:23Z</td>\n",
              "      <td>2016-11-04T03:11:11Z</td>\n",
              "      <td>2016-11-04T03:11:11Z</td>\n",
              "      <td>2016-10-27T04:25:08Z</td>\n",
              "      <td>2016-10-27T04:25:08Z</td>\n",
              "    </tr>\n",
              "    <tr>\n",
              "      <th>prices.amountmin</th>\n",
              "      <td>30</td>\n",
              "      <td>10</td>\n",
              "      <td>8</td>\n",
              "      <td>90</td>\n",
              "      <td>39.99</td>\n",
              "    </tr>\n",
              "    <tr>\n",
              "      <th>prices.amountmax</th>\n",
              "      <td>30</td>\n",
              "      <td>10</td>\n",
              "      <td>8</td>\n",
              "      <td>90</td>\n",
              "      <td>39.99</td>\n",
              "    </tr>\n",
              "    <tr>\n",
              "      <th>prices.color</th>\n",
              "      <td>NaN</td>\n",
              "      <td>NaN</td>\n",
              "      <td>NaN</td>\n",
              "      <td>NaN</td>\n",
              "      <td>NaN</td>\n",
              "    </tr>\n",
              "    <tr>\n",
              "      <th>prices.currency</th>\n",
              "      <td>USD</td>\n",
              "      <td>USD</td>\n",
              "      <td>USD</td>\n",
              "      <td>USD</td>\n",
              "      <td>USD</td>\n",
              "    </tr>\n",
              "    <tr>\n",
              "      <th>prices.dateadded</th>\n",
              "      <td>2016-11-10T09:13:23Z</td>\n",
              "      <td>2016-11-04T03:11:11Z</td>\n",
              "      <td>2016-11-04T03:11:11Z</td>\n",
              "      <td>2016-10-27T04:25:08Z</td>\n",
              "      <td>2016-10-27T04:25:08Z</td>\n",
              "    </tr>\n",
              "    <tr>\n",
              "      <th>prices.dateseen</th>\n",
              "      <td>2016-11-09T00:00:00Z</td>\n",
              "      <td>2016-11-03T00:00:00Z</td>\n",
              "      <td>2015-11-03T00:00:00Z</td>\n",
              "      <td>2016-10-25T00:00:00Z</td>\n",
              "      <td>2016-10-25T00:00:00Z</td>\n",
              "    </tr>\n",
              "    <tr>\n",
              "      <th>prices.issale</th>\n",
              "      <td>False</td>\n",
              "      <td>False</td>\n",
              "      <td>False</td>\n",
              "      <td>False</td>\n",
              "      <td>True</td>\n",
              "    </tr>\n",
              "    <tr>\n",
              "      <th>prices.merchant</th>\n",
              "      <td>Big Deal Hunter - Walmart.com</td>\n",
              "      <td>Walmart store - Walmart.com</td>\n",
              "      <td>Walmart store - Walmart.com</td>\n",
              "      <td>ApparelSave - Walmart.com</td>\n",
              "      <td>NaN</td>\n",
              "    </tr>\n",
              "    <tr>\n",
              "      <th>brand_clean</th>\n",
              "      <td>Pedi Couture</td>\n",
              "      <td>BEAUTIFEET</td>\n",
              "      <td>BEAUTIFEET</td>\n",
              "      <td>INC International Concepts</td>\n",
              "      <td>INC International Concepts</td>\n",
              "    </tr>\n",
              "    <tr>\n",
              "      <th>prices.amountavg</th>\n",
              "      <td>30</td>\n",
              "      <td>10</td>\n",
              "      <td>8</td>\n",
              "      <td>90</td>\n",
              "      <td>39.99</td>\n",
              "    </tr>\n",
              "    <tr>\n",
              "      <th>price.stat</th>\n",
              "      <td>False</td>\n",
              "      <td>False</td>\n",
              "      <td>False</td>\n",
              "      <td>False</td>\n",
              "      <td>False</td>\n",
              "    </tr>\n",
              "  </tbody>\n",
              "</table>\n",
              "</div>"
            ],
            "text/plain": [
              "                                                              7   ...                                              20\n",
              "id                                          AVpe__JXilAPnD_xSt3F  ...                            AVpe_1KTilAPnD_xSqVK\n",
              "brand                                               Pedi Couture  ...                      INC International Concepts\n",
              "categories        Clothing,Shoes,Women's Shoes,All Women's Shoes  ...  Shoes,Women's Shoes,Clothing,All Women's Shoes\n",
              "colors                                                blue snake  ...                                           green\n",
              "dateadded                                   2016-11-10T09:13:23Z  ...                            2016-10-27T04:25:08Z\n",
              "dateupdated                                 2016-11-10T09:13:23Z  ...                            2016-10-27T04:25:08Z\n",
              "prices.amountmin                                              30  ...                                           39.99\n",
              "prices.amountmax                                              30  ...                                           39.99\n",
              "prices.color                                                 NaN  ...                                             NaN\n",
              "prices.currency                                              USD  ...                                             USD\n",
              "prices.dateadded                            2016-11-10T09:13:23Z  ...                            2016-10-27T04:25:08Z\n",
              "prices.dateseen                             2016-11-09T00:00:00Z  ...                            2016-10-25T00:00:00Z\n",
              "prices.issale                                              False  ...                                            True\n",
              "prices.merchant                    Big Deal Hunter - Walmart.com  ...                                             NaN\n",
              "brand_clean                                         Pedi Couture  ...                      INC International Concepts\n",
              "prices.amountavg                                              30  ...                                           39.99\n",
              "price.stat                                                 False  ...                                           False\n",
              "\n",
              "[17 rows x 5 columns]"
            ]
          },
          "metadata": {
            "tags": []
          },
          "execution_count": 183
        }
      ]
    },
    {
      "cell_type": "code",
      "metadata": {
        "colab": {
          "base_uri": "https://localhost:8080/"
        },
        "id": "7okLI3FbJMyU",
        "outputId": "f9133963-ac78-441d-c188-29441aac9c6e"
      },
      "source": [
        "import re\n",
        "data['isBoots'] = data['categories'].str.contains(\"Boot|calf\",\n",
        "                                              flags=re.IGNORECASE\n",
        "                                             ).map(lambda x:1 if(x==True) else 0)\n",
        "data['isBoots'].value_counts(normalize=True)"
      ],
      "execution_count": null,
      "outputs": [
        {
          "output_type": "execute_result",
          "data": {
            "text/plain": [
              "0    0.785148\n",
              "1    0.214852\n",
              "Name: isBoots, dtype: float64"
            ]
          },
          "metadata": {
            "tags": []
          },
          "execution_count": 184
        }
      ]
    },
    {
      "cell_type": "code",
      "metadata": {
        "colab": {
          "base_uri": "https://localhost:8080/"
        },
        "id": "FY4MZXu_JQVy",
        "outputId": "2256b4d9-fa9b-4009-cb86-5ad535516b26"
      },
      "source": [
        "data['isBooties'] = data['categories'].str.contains(\"booties|bootie|heel|wedge|pump|Stiletto\",\n",
        "                                                flags=re.IGNORECASE\n",
        "                                               ).map(lambda x:1 if(x==True) else 0)\n",
        "data['isBooties'].value_counts(normalize=True)"
      ],
      "execution_count": null,
      "outputs": [
        {
          "output_type": "execute_result",
          "data": {
            "text/plain": [
              "0    0.779489\n",
              "1    0.220511\n",
              "Name: isBooties, dtype: float64"
            ]
          },
          "metadata": {
            "tags": []
          },
          "execution_count": 185
        }
      ]
    },
    {
      "cell_type": "code",
      "metadata": {
        "colab": {
          "base_uri": "https://localhost:8080/"
        },
        "id": "LCm7eAcDLCmS",
        "outputId": "03e2a03c-be58-4b79-b7e2-12fd606909be"
      },
      "source": [
        "data['isSandal'] = data['categories'].str.contains(\"sandal|gladiator|flip|flop|slipper|slide\",\n",
        "                                                flags=re.IGNORECASE\n",
        "                                                ).map(lambda x:1 if(x==True) else 0)\n",
        "data['isSandal'].value_counts(normalize=True)"
      ],
      "execution_count": null,
      "outputs": [
        {
          "output_type": "execute_result",
          "data": {
            "text/plain": [
              "0    0.853673\n",
              "1    0.146327\n",
              "Name: isSandal, dtype: float64"
            ]
          },
          "metadata": {
            "tags": []
          },
          "execution_count": 186
        }
      ]
    },
    {
      "cell_type": "code",
      "metadata": {
        "colab": {
          "base_uri": "https://localhost:8080/"
        },
        "id": "KSr30tiFLOPs",
        "outputId": "aadae121-2ac1-49ff-a0e4-0dda7bb6715c"
      },
      "source": [
        "data['isAthletic'] = data['categories'].str.contains(\"athletic|basketball|golf|sport|run|running|trainin|gym|fitness|climb|\\\n",
        "                                    soccer|outdoor|hiking|hike|skecher|balance|fila|asics|Easy Spirit|trainer|adidas|puma|\\\n",
        "                                    reebok|nike\",\n",
        "                                                 flags=re.IGNORECASE\n",
        "                                                 ).map(lambda x:1 if(x==True) else 0)\n",
        "data['isAthletic'].value_counts(normalize=True)"
      ],
      "execution_count": null,
      "outputs": [
        {
          "output_type": "execute_result",
          "data": {
            "text/plain": [
              "0    0.929435\n",
              "1    0.070565\n",
              "Name: isAthletic, dtype: float64"
            ]
          },
          "metadata": {
            "tags": []
          },
          "execution_count": 187
        }
      ]
    },
    {
      "cell_type": "code",
      "metadata": {
        "colab": {
          "base_uri": "https://localhost:8080/"
        },
        "id": "28cFPRKtLbE1",
        "outputId": "d6093993-408f-4fb7-b4a6-58f19ca65806"
      },
      "source": [
        "data['isCasual'] = data['categories'].str.contains(\"casual|contemporary|sneaker|slip-on|clog|round|toe|converse|canvas|mule|\\\n",
        "                                    moccasin|flat|Bahama|espadrille|loafer\",\n",
        "                                                 flags=re.IGNORECASE\n",
        "                                                 ).map(lambda x:1 if(x==True) else 0)\n",
        "data['isCasual'].value_counts(normalize=True)\n",
        "\n",
        "data['isDesigner'] = data['categories'].str.contains(\"design\",\n",
        "                                                 flags=re.IGNORECASE\n",
        "                                                 ).map(lambda x:1 if(x==True) else 0)\n",
        "data['isDesigner'].value_counts(normalize=True)\n",
        "\n",
        "data['isLeather'] = data['categories'].str.contains(\"leather|pu|patent\",\n",
        "                                                 flags=re.IGNORECASE\n",
        "                                                 ).map(lambda x:1 if(x==True) else 0)\n",
        "data['isLeather'].value_counts(normalize=True)\n",
        "\n",
        "typeofshoe = ['isBoots', 'isBooties', 'isSandal', 'isAthletic', 'isCasual', 'isDesigner', 'isLeather']\n",
        "\n",
        "data['isOther'] = (data[typeofshoe].sum(axis=1)).map(lambda x:1 if(x==0) else 0)\n",
        "data['isOther'].value_counts(normalize=True)\n",
        "\n"
      ],
      "execution_count": null,
      "outputs": [
        {
          "output_type": "execute_result",
          "data": {
            "text/plain": [
              "0    0.776486\n",
              "1    0.223514\n",
              "Name: isOther, dtype: float64"
            ]
          },
          "metadata": {
            "tags": []
          },
          "execution_count": 188
        }
      ]
    },
    {
      "cell_type": "code",
      "metadata": {
        "colab": {
          "base_uri": "https://localhost:8080/"
        },
        "id": "7EgCp6Kk4J-s",
        "outputId": "3a511115-d386-4c2d-f022-fa6b0e9fcc8c"
      },
      "source": [
        "data.info()"
      ],
      "execution_count": null,
      "outputs": [
        {
          "output_type": "stream",
          "text": [
            "<class 'pandas.core.frame.DataFrame'>\n",
            "Int64Index: 25976 entries, 7 to 33800\n",
            "Data columns (total 25 columns):\n",
            " #   Column            Non-Null Count  Dtype  \n",
            "---  ------            --------------  -----  \n",
            " 0   id                25976 non-null  object \n",
            " 1   brand             25976 non-null  object \n",
            " 2   categories        25976 non-null  object \n",
            " 3   colors            25976 non-null  object \n",
            " 4   dateadded         25976 non-null  object \n",
            " 5   dateupdated       25976 non-null  object \n",
            " 6   prices.amountmin  25976 non-null  float64\n",
            " 7   prices.amountmax  25976 non-null  float64\n",
            " 8   prices.color      16004 non-null  object \n",
            " 9   prices.currency   25976 non-null  object \n",
            " 10  prices.dateadded  25976 non-null  object \n",
            " 11  prices.dateseen   25976 non-null  object \n",
            " 12  prices.issale     25976 non-null  bool   \n",
            " 13  prices.merchant   22859 non-null  object \n",
            " 14  brand_clean       25976 non-null  object \n",
            " 15  prices.amountavg  25976 non-null  float64\n",
            " 16  price.stat        25976 non-null  bool   \n",
            " 17  isBoots           25976 non-null  int64  \n",
            " 18  isBooties         25976 non-null  int64  \n",
            " 19  isSandal          25976 non-null  int64  \n",
            " 20  isAthletic        25976 non-null  int64  \n",
            " 21  isCasual          25976 non-null  int64  \n",
            " 22  isDesigner        25976 non-null  int64  \n",
            " 23  isLeather         25976 non-null  int64  \n",
            " 24  isOther           25976 non-null  int64  \n",
            "dtypes: bool(2), float64(3), int64(8), object(12)\n",
            "memory usage: 4.8+ MB\n"
          ],
          "name": "stdout"
        }
      ]
    },
    {
      "cell_type": "code",
      "metadata": {
        "colab": {
          "base_uri": "https://localhost:8080/",
          "height": 391
        },
        "id": "ARa5tQ_n4Ljx",
        "outputId": "73061013-368d-46fd-fc11-aae6a875e60a"
      },
      "source": [
        "data.head()"
      ],
      "execution_count": null,
      "outputs": [
        {
          "output_type": "execute_result",
          "data": {
            "text/html": [
              "<div>\n",
              "<style scoped>\n",
              "    .dataframe tbody tr th:only-of-type {\n",
              "        vertical-align: middle;\n",
              "    }\n",
              "\n",
              "    .dataframe tbody tr th {\n",
              "        vertical-align: top;\n",
              "    }\n",
              "\n",
              "    .dataframe thead th {\n",
              "        text-align: right;\n",
              "    }\n",
              "</style>\n",
              "<table border=\"1\" class=\"dataframe\">\n",
              "  <thead>\n",
              "    <tr style=\"text-align: right;\">\n",
              "      <th></th>\n",
              "      <th>id</th>\n",
              "      <th>brand</th>\n",
              "      <th>categories</th>\n",
              "      <th>colors</th>\n",
              "      <th>dateadded</th>\n",
              "      <th>dateupdated</th>\n",
              "      <th>prices.amountmin</th>\n",
              "      <th>prices.amountmax</th>\n",
              "      <th>prices.color</th>\n",
              "      <th>prices.currency</th>\n",
              "      <th>prices.dateadded</th>\n",
              "      <th>prices.dateseen</th>\n",
              "      <th>prices.issale</th>\n",
              "      <th>prices.merchant</th>\n",
              "      <th>brand_clean</th>\n",
              "      <th>prices.amountavg</th>\n",
              "      <th>price.stat</th>\n",
              "      <th>isBoots</th>\n",
              "      <th>isBooties</th>\n",
              "      <th>isSandal</th>\n",
              "      <th>isAthletic</th>\n",
              "      <th>isCasual</th>\n",
              "      <th>isDesigner</th>\n",
              "      <th>isLeather</th>\n",
              "      <th>isOther</th>\n",
              "    </tr>\n",
              "  </thead>\n",
              "  <tbody>\n",
              "    <tr>\n",
              "      <th>7</th>\n",
              "      <td>AVpe__JXilAPnD_xSt3F</td>\n",
              "      <td>Pedi Couture</td>\n",
              "      <td>Clothing,Shoes,Women's Shoes,All Women's Shoes</td>\n",
              "      <td>blue snake</td>\n",
              "      <td>2016-11-10T09:13:23Z</td>\n",
              "      <td>2016-11-10T09:13:23Z</td>\n",
              "      <td>30.00</td>\n",
              "      <td>30.00</td>\n",
              "      <td>NaN</td>\n",
              "      <td>USD</td>\n",
              "      <td>2016-11-10T09:13:23Z</td>\n",
              "      <td>2016-11-09T00:00:00Z</td>\n",
              "      <td>False</td>\n",
              "      <td>Big Deal Hunter - Walmart.com</td>\n",
              "      <td>Pedi Couture</td>\n",
              "      <td>30.00</td>\n",
              "      <td>False</td>\n",
              "      <td>0</td>\n",
              "      <td>0</td>\n",
              "      <td>0</td>\n",
              "      <td>0</td>\n",
              "      <td>0</td>\n",
              "      <td>0</td>\n",
              "      <td>0</td>\n",
              "      <td>1</td>\n",
              "    </tr>\n",
              "    <tr>\n",
              "      <th>10</th>\n",
              "      <td>AVpe_0ob1cnluZ0-bnWr</td>\n",
              "      <td>BEAUTIFEET</td>\n",
              "      <td>Shoes,Women's Shoes,Clothing,All Women's Shoes</td>\n",
              "      <td>multicolor,multi</td>\n",
              "      <td>2016-11-04T03:11:11Z</td>\n",
              "      <td>2016-11-04T03:11:11Z</td>\n",
              "      <td>10.00</td>\n",
              "      <td>10.00</td>\n",
              "      <td>NaN</td>\n",
              "      <td>USD</td>\n",
              "      <td>2016-11-04T03:11:11Z</td>\n",
              "      <td>2016-11-03T00:00:00Z</td>\n",
              "      <td>False</td>\n",
              "      <td>Walmart store - Walmart.com</td>\n",
              "      <td>BEAUTIFEET</td>\n",
              "      <td>10.00</td>\n",
              "      <td>False</td>\n",
              "      <td>0</td>\n",
              "      <td>0</td>\n",
              "      <td>0</td>\n",
              "      <td>0</td>\n",
              "      <td>0</td>\n",
              "      <td>0</td>\n",
              "      <td>0</td>\n",
              "      <td>1</td>\n",
              "    </tr>\n",
              "    <tr>\n",
              "      <th>11</th>\n",
              "      <td>AVpe_0ob1cnluZ0-bnWr</td>\n",
              "      <td>BEAUTIFEET</td>\n",
              "      <td>Shoes,Women's Shoes,Clothing,All Women's Shoes</td>\n",
              "      <td>multicolor,multi</td>\n",
              "      <td>2016-11-04T03:11:11Z</td>\n",
              "      <td>2016-11-04T03:11:11Z</td>\n",
              "      <td>8.00</td>\n",
              "      <td>8.00</td>\n",
              "      <td>NaN</td>\n",
              "      <td>USD</td>\n",
              "      <td>2016-11-04T03:11:11Z</td>\n",
              "      <td>2015-11-03T00:00:00Z</td>\n",
              "      <td>False</td>\n",
              "      <td>Walmart store - Walmart.com</td>\n",
              "      <td>BEAUTIFEET</td>\n",
              "      <td>8.00</td>\n",
              "      <td>False</td>\n",
              "      <td>0</td>\n",
              "      <td>0</td>\n",
              "      <td>0</td>\n",
              "      <td>0</td>\n",
              "      <td>0</td>\n",
              "      <td>0</td>\n",
              "      <td>0</td>\n",
              "      <td>1</td>\n",
              "    </tr>\n",
              "    <tr>\n",
              "      <th>19</th>\n",
              "      <td>AVpe_1KTilAPnD_xSqVK</td>\n",
              "      <td>INC International Concepts</td>\n",
              "      <td>Shoes,Women's Shoes,Clothing,All Women's Shoes</td>\n",
              "      <td>green</td>\n",
              "      <td>2016-10-27T04:25:08Z</td>\n",
              "      <td>2016-10-27T04:25:08Z</td>\n",
              "      <td>90.00</td>\n",
              "      <td>90.00</td>\n",
              "      <td>NaN</td>\n",
              "      <td>USD</td>\n",
              "      <td>2016-10-27T04:25:08Z</td>\n",
              "      <td>2016-10-25T00:00:00Z</td>\n",
              "      <td>False</td>\n",
              "      <td>ApparelSave - Walmart.com</td>\n",
              "      <td>INC International Concepts</td>\n",
              "      <td>90.00</td>\n",
              "      <td>False</td>\n",
              "      <td>0</td>\n",
              "      <td>0</td>\n",
              "      <td>0</td>\n",
              "      <td>0</td>\n",
              "      <td>0</td>\n",
              "      <td>0</td>\n",
              "      <td>0</td>\n",
              "      <td>1</td>\n",
              "    </tr>\n",
              "    <tr>\n",
              "      <th>20</th>\n",
              "      <td>AVpe_1KTilAPnD_xSqVK</td>\n",
              "      <td>INC International Concepts</td>\n",
              "      <td>Shoes,Women's Shoes,Clothing,All Women's Shoes</td>\n",
              "      <td>green</td>\n",
              "      <td>2016-10-27T04:25:08Z</td>\n",
              "      <td>2016-10-27T04:25:08Z</td>\n",
              "      <td>39.99</td>\n",
              "      <td>39.99</td>\n",
              "      <td>NaN</td>\n",
              "      <td>USD</td>\n",
              "      <td>2016-10-27T04:25:08Z</td>\n",
              "      <td>2016-10-25T00:00:00Z</td>\n",
              "      <td>True</td>\n",
              "      <td>NaN</td>\n",
              "      <td>INC International Concepts</td>\n",
              "      <td>39.99</td>\n",
              "      <td>False</td>\n",
              "      <td>0</td>\n",
              "      <td>0</td>\n",
              "      <td>0</td>\n",
              "      <td>0</td>\n",
              "      <td>0</td>\n",
              "      <td>0</td>\n",
              "      <td>0</td>\n",
              "      <td>1</td>\n",
              "    </tr>\n",
              "  </tbody>\n",
              "</table>\n",
              "</div>"
            ],
            "text/plain": [
              "                      id                       brand  ... isLeather isOther\n",
              "7   AVpe__JXilAPnD_xSt3F                Pedi Couture  ...         0       1\n",
              "10  AVpe_0ob1cnluZ0-bnWr                  BEAUTIFEET  ...         0       1\n",
              "11  AVpe_0ob1cnluZ0-bnWr                  BEAUTIFEET  ...         0       1\n",
              "19  AVpe_1KTilAPnD_xSqVK  INC International Concepts  ...         0       1\n",
              "20  AVpe_1KTilAPnD_xSqVK  INC International Concepts  ...         0       1\n",
              "\n",
              "[5 rows x 25 columns]"
            ]
          },
          "metadata": {
            "tags": []
          },
          "execution_count": 190
        }
      ]
    },
    {
      "cell_type": "code",
      "metadata": {
        "colab": {
          "base_uri": "https://localhost:8080/",
          "height": 433
        },
        "id": "kVvJdSMB5aXx",
        "outputId": "677966f4-214c-4aa0-c3bb-9fc97b47502a"
      },
      "source": [
        "data.describe(include = 'all')"
      ],
      "execution_count": null,
      "outputs": [
        {
          "output_type": "execute_result",
          "data": {
            "text/html": [
              "<div>\n",
              "<style scoped>\n",
              "    .dataframe tbody tr th:only-of-type {\n",
              "        vertical-align: middle;\n",
              "    }\n",
              "\n",
              "    .dataframe tbody tr th {\n",
              "        vertical-align: top;\n",
              "    }\n",
              "\n",
              "    .dataframe thead th {\n",
              "        text-align: right;\n",
              "    }\n",
              "</style>\n",
              "<table border=\"1\" class=\"dataframe\">\n",
              "  <thead>\n",
              "    <tr style=\"text-align: right;\">\n",
              "      <th></th>\n",
              "      <th>id</th>\n",
              "      <th>brand</th>\n",
              "      <th>categories</th>\n",
              "      <th>colors</th>\n",
              "      <th>dateadded</th>\n",
              "      <th>dateupdated</th>\n",
              "      <th>prices.amountmin</th>\n",
              "      <th>prices.amountmax</th>\n",
              "      <th>prices.color</th>\n",
              "      <th>prices.currency</th>\n",
              "      <th>prices.dateadded</th>\n",
              "      <th>prices.dateseen</th>\n",
              "      <th>prices.issale</th>\n",
              "      <th>prices.merchant</th>\n",
              "      <th>brand_clean</th>\n",
              "      <th>prices.amountavg</th>\n",
              "      <th>price.stat</th>\n",
              "      <th>isBoots</th>\n",
              "      <th>isBooties</th>\n",
              "      <th>isSandal</th>\n",
              "      <th>isAthletic</th>\n",
              "      <th>isCasual</th>\n",
              "      <th>isDesigner</th>\n",
              "      <th>isLeather</th>\n",
              "      <th>isOther</th>\n",
              "    </tr>\n",
              "  </thead>\n",
              "  <tbody>\n",
              "    <tr>\n",
              "      <th>count</th>\n",
              "      <td>25976</td>\n",
              "      <td>25976</td>\n",
              "      <td>25976</td>\n",
              "      <td>25976</td>\n",
              "      <td>25976</td>\n",
              "      <td>25976</td>\n",
              "      <td>25976.000000</td>\n",
              "      <td>25976.000000</td>\n",
              "      <td>16004</td>\n",
              "      <td>25976</td>\n",
              "      <td>25976</td>\n",
              "      <td>25976</td>\n",
              "      <td>25976</td>\n",
              "      <td>22859</td>\n",
              "      <td>25976</td>\n",
              "      <td>25976.000000</td>\n",
              "      <td>25976</td>\n",
              "      <td>25976.000000</td>\n",
              "      <td>25976.000000</td>\n",
              "      <td>25976.000000</td>\n",
              "      <td>25976.000000</td>\n",
              "      <td>25976.000000</td>\n",
              "      <td>25976.000000</td>\n",
              "      <td>25976.000000</td>\n",
              "      <td>25976.000000</td>\n",
              "    </tr>\n",
              "    <tr>\n",
              "      <th>unique</th>\n",
              "      <td>6430</td>\n",
              "      <td>1116</td>\n",
              "      <td>734</td>\n",
              "      <td>1189</td>\n",
              "      <td>4864</td>\n",
              "      <td>4234</td>\n",
              "      <td>NaN</td>\n",
              "      <td>NaN</td>\n",
              "      <td>1920</td>\n",
              "      <td>1</td>\n",
              "      <td>5417</td>\n",
              "      <td>4328</td>\n",
              "      <td>2</td>\n",
              "      <td>232</td>\n",
              "      <td>1114</td>\n",
              "      <td>NaN</td>\n",
              "      <td>2</td>\n",
              "      <td>NaN</td>\n",
              "      <td>NaN</td>\n",
              "      <td>NaN</td>\n",
              "      <td>NaN</td>\n",
              "      <td>NaN</td>\n",
              "      <td>NaN</td>\n",
              "      <td>NaN</td>\n",
              "      <td>NaN</td>\n",
              "    </tr>\n",
              "    <tr>\n",
              "      <th>top</th>\n",
              "      <td>AVpfiLB71cnluZ0-mdRy</td>\n",
              "      <td>Journee Collection</td>\n",
              "      <td>Clothing,Shoes,Women's Shoes,All Women's Shoes</td>\n",
              "      <td>no color</td>\n",
              "      <td>2017-03-28T11:43:08Z</td>\n",
              "      <td>2017-03-28T11:42:28Z</td>\n",
              "      <td>NaN</td>\n",
              "      <td>NaN</td>\n",
              "      <td>UWomen's 9 M (Regular)</td>\n",
              "      <td>USD</td>\n",
              "      <td>2017-03-28T11:42:28Z</td>\n",
              "      <td>2015-08-11T00:00:00Z</td>\n",
              "      <td>False</td>\n",
              "      <td>Overstock.com</td>\n",
              "      <td>Journee Collection</td>\n",
              "      <td>NaN</td>\n",
              "      <td>False</td>\n",
              "      <td>NaN</td>\n",
              "      <td>NaN</td>\n",
              "      <td>NaN</td>\n",
              "      <td>NaN</td>\n",
              "      <td>NaN</td>\n",
              "      <td>NaN</td>\n",
              "      <td>NaN</td>\n",
              "      <td>NaN</td>\n",
              "    </tr>\n",
              "    <tr>\n",
              "      <th>freq</th>\n",
              "      <td>79</td>\n",
              "      <td>1401</td>\n",
              "      <td>1734</td>\n",
              "      <td>8871</td>\n",
              "      <td>253</td>\n",
              "      <td>415</td>\n",
              "      <td>NaN</td>\n",
              "      <td>NaN</td>\n",
              "      <td>603</td>\n",
              "      <td>25976</td>\n",
              "      <td>412</td>\n",
              "      <td>843</td>\n",
              "      <td>22166</td>\n",
              "      <td>16315</td>\n",
              "      <td>1401</td>\n",
              "      <td>NaN</td>\n",
              "      <td>20095</td>\n",
              "      <td>NaN</td>\n",
              "      <td>NaN</td>\n",
              "      <td>NaN</td>\n",
              "      <td>NaN</td>\n",
              "      <td>NaN</td>\n",
              "      <td>NaN</td>\n",
              "      <td>NaN</td>\n",
              "      <td>NaN</td>\n",
              "    </tr>\n",
              "    <tr>\n",
              "      <th>mean</th>\n",
              "      <td>NaN</td>\n",
              "      <td>NaN</td>\n",
              "      <td>NaN</td>\n",
              "      <td>NaN</td>\n",
              "      <td>NaN</td>\n",
              "      <td>NaN</td>\n",
              "      <td>95.362259</td>\n",
              "      <td>96.474764</td>\n",
              "      <td>NaN</td>\n",
              "      <td>NaN</td>\n",
              "      <td>NaN</td>\n",
              "      <td>NaN</td>\n",
              "      <td>NaN</td>\n",
              "      <td>NaN</td>\n",
              "      <td>NaN</td>\n",
              "      <td>95.918512</td>\n",
              "      <td>NaN</td>\n",
              "      <td>0.214852</td>\n",
              "      <td>0.220511</td>\n",
              "      <td>0.146327</td>\n",
              "      <td>0.070565</td>\n",
              "      <td>0.198298</td>\n",
              "      <td>0.003542</td>\n",
              "      <td>0.015938</td>\n",
              "      <td>0.223514</td>\n",
              "    </tr>\n",
              "    <tr>\n",
              "      <th>std</th>\n",
              "      <td>NaN</td>\n",
              "      <td>NaN</td>\n",
              "      <td>NaN</td>\n",
              "      <td>NaN</td>\n",
              "      <td>NaN</td>\n",
              "      <td>NaN</td>\n",
              "      <td>161.445045</td>\n",
              "      <td>161.577853</td>\n",
              "      <td>NaN</td>\n",
              "      <td>NaN</td>\n",
              "      <td>NaN</td>\n",
              "      <td>NaN</td>\n",
              "      <td>NaN</td>\n",
              "      <td>NaN</td>\n",
              "      <td>NaN</td>\n",
              "      <td>161.424508</td>\n",
              "      <td>NaN</td>\n",
              "      <td>0.410728</td>\n",
              "      <td>0.414599</td>\n",
              "      <td>0.353441</td>\n",
              "      <td>0.256102</td>\n",
              "      <td>0.398726</td>\n",
              "      <td>0.059408</td>\n",
              "      <td>0.125237</td>\n",
              "      <td>0.416608</td>\n",
              "    </tr>\n",
              "    <tr>\n",
              "      <th>min</th>\n",
              "      <td>NaN</td>\n",
              "      <td>NaN</td>\n",
              "      <td>NaN</td>\n",
              "      <td>NaN</td>\n",
              "      <td>NaN</td>\n",
              "      <td>NaN</td>\n",
              "      <td>0.010000</td>\n",
              "      <td>0.010000</td>\n",
              "      <td>NaN</td>\n",
              "      <td>NaN</td>\n",
              "      <td>NaN</td>\n",
              "      <td>NaN</td>\n",
              "      <td>NaN</td>\n",
              "      <td>NaN</td>\n",
              "      <td>NaN</td>\n",
              "      <td>0.010000</td>\n",
              "      <td>NaN</td>\n",
              "      <td>0.000000</td>\n",
              "      <td>0.000000</td>\n",
              "      <td>0.000000</td>\n",
              "      <td>0.000000</td>\n",
              "      <td>0.000000</td>\n",
              "      <td>0.000000</td>\n",
              "      <td>0.000000</td>\n",
              "      <td>0.000000</td>\n",
              "    </tr>\n",
              "    <tr>\n",
              "      <th>25%</th>\n",
              "      <td>NaN</td>\n",
              "      <td>NaN</td>\n",
              "      <td>NaN</td>\n",
              "      <td>NaN</td>\n",
              "      <td>NaN</td>\n",
              "      <td>NaN</td>\n",
              "      <td>34.390000</td>\n",
              "      <td>34.990000</td>\n",
              "      <td>NaN</td>\n",
              "      <td>NaN</td>\n",
              "      <td>NaN</td>\n",
              "      <td>NaN</td>\n",
              "      <td>NaN</td>\n",
              "      <td>NaN</td>\n",
              "      <td>NaN</td>\n",
              "      <td>34.950000</td>\n",
              "      <td>NaN</td>\n",
              "      <td>0.000000</td>\n",
              "      <td>0.000000</td>\n",
              "      <td>0.000000</td>\n",
              "      <td>0.000000</td>\n",
              "      <td>0.000000</td>\n",
              "      <td>0.000000</td>\n",
              "      <td>0.000000</td>\n",
              "      <td>0.000000</td>\n",
              "    </tr>\n",
              "    <tr>\n",
              "      <th>50%</th>\n",
              "      <td>NaN</td>\n",
              "      <td>NaN</td>\n",
              "      <td>NaN</td>\n",
              "      <td>NaN</td>\n",
              "      <td>NaN</td>\n",
              "      <td>NaN</td>\n",
              "      <td>53.950000</td>\n",
              "      <td>54.950000</td>\n",
              "      <td>NaN</td>\n",
              "      <td>NaN</td>\n",
              "      <td>NaN</td>\n",
              "      <td>NaN</td>\n",
              "      <td>NaN</td>\n",
              "      <td>NaN</td>\n",
              "      <td>NaN</td>\n",
              "      <td>54.490000</td>\n",
              "      <td>NaN</td>\n",
              "      <td>0.000000</td>\n",
              "      <td>0.000000</td>\n",
              "      <td>0.000000</td>\n",
              "      <td>0.000000</td>\n",
              "      <td>0.000000</td>\n",
              "      <td>0.000000</td>\n",
              "      <td>0.000000</td>\n",
              "      <td>0.000000</td>\n",
              "    </tr>\n",
              "    <tr>\n",
              "      <th>75%</th>\n",
              "      <td>NaN</td>\n",
              "      <td>NaN</td>\n",
              "      <td>NaN</td>\n",
              "      <td>NaN</td>\n",
              "      <td>NaN</td>\n",
              "      <td>NaN</td>\n",
              "      <td>94.950000</td>\n",
              "      <td>97.560000</td>\n",
              "      <td>NaN</td>\n",
              "      <td>NaN</td>\n",
              "      <td>NaN</td>\n",
              "      <td>NaN</td>\n",
              "      <td>NaN</td>\n",
              "      <td>NaN</td>\n",
              "      <td>NaN</td>\n",
              "      <td>95.992500</td>\n",
              "      <td>NaN</td>\n",
              "      <td>0.000000</td>\n",
              "      <td>0.000000</td>\n",
              "      <td>0.000000</td>\n",
              "      <td>0.000000</td>\n",
              "      <td>0.000000</td>\n",
              "      <td>0.000000</td>\n",
              "      <td>0.000000</td>\n",
              "      <td>0.000000</td>\n",
              "    </tr>\n",
              "    <tr>\n",
              "      <th>max</th>\n",
              "      <td>NaN</td>\n",
              "      <td>NaN</td>\n",
              "      <td>NaN</td>\n",
              "      <td>NaN</td>\n",
              "      <td>NaN</td>\n",
              "      <td>NaN</td>\n",
              "      <td>4198.990000</td>\n",
              "      <td>4198.990000</td>\n",
              "      <td>NaN</td>\n",
              "      <td>NaN</td>\n",
              "      <td>NaN</td>\n",
              "      <td>NaN</td>\n",
              "      <td>NaN</td>\n",
              "      <td>NaN</td>\n",
              "      <td>NaN</td>\n",
              "      <td>4198.990000</td>\n",
              "      <td>NaN</td>\n",
              "      <td>1.000000</td>\n",
              "      <td>1.000000</td>\n",
              "      <td>1.000000</td>\n",
              "      <td>1.000000</td>\n",
              "      <td>1.000000</td>\n",
              "      <td>1.000000</td>\n",
              "      <td>1.000000</td>\n",
              "      <td>1.000000</td>\n",
              "    </tr>\n",
              "  </tbody>\n",
              "</table>\n",
              "</div>"
            ],
            "text/plain": [
              "                          id               brand  ...     isLeather       isOther\n",
              "count                  25976               25976  ...  25976.000000  25976.000000\n",
              "unique                  6430                1116  ...           NaN           NaN\n",
              "top     AVpfiLB71cnluZ0-mdRy  Journee Collection  ...           NaN           NaN\n",
              "freq                      79                1401  ...           NaN           NaN\n",
              "mean                     NaN                 NaN  ...      0.015938      0.223514\n",
              "std                      NaN                 NaN  ...      0.125237      0.416608\n",
              "min                      NaN                 NaN  ...      0.000000      0.000000\n",
              "25%                      NaN                 NaN  ...      0.000000      0.000000\n",
              "50%                      NaN                 NaN  ...      0.000000      0.000000\n",
              "75%                      NaN                 NaN  ...      0.000000      0.000000\n",
              "max                      NaN                 NaN  ...      1.000000      1.000000\n",
              "\n",
              "[11 rows x 25 columns]"
            ]
          },
          "metadata": {
            "tags": []
          },
          "execution_count": 191
        }
      ]
    },
    {
      "cell_type": "code",
      "metadata": {
        "id": "z545vsWt5iK5"
      },
      "source": [
        "data.drop(['categories', 'prices.dateadded', 'prices.dateseen', 'prices.currency'], axis = 1, inplace = True)"
      ],
      "execution_count": null,
      "outputs": []
    },
    {
      "cell_type": "markdown",
      "metadata": {
        "id": "QA3SFB_C555c"
      },
      "source": [
        "Converting 'dateupdated' column from 'object' to 'datetime' dtype"
      ]
    },
    {
      "cell_type": "code",
      "metadata": {
        "id": "lHnq8rJ7Asbz"
      },
      "source": [
        "data['datetime'] = data['dateupdated'].apply(lambda x : pd.to_datetime(str(x)))"
      ],
      "execution_count": null,
      "outputs": []
    },
    {
      "cell_type": "code",
      "metadata": {
        "colab": {
          "base_uri": "https://localhost:8080/"
        },
        "id": "Ut8hVe84Bh2b",
        "outputId": "80679c90-3db9-476c-c87d-a988c74524af"
      },
      "source": [
        "data['datetime']"
      ],
      "execution_count": null,
      "outputs": [
        {
          "output_type": "execute_result",
          "data": {
            "text/plain": [
              "7       2016-11-10 09:13:23+00:00\n",
              "10      2016-11-04 03:11:11+00:00\n",
              "11      2016-11-04 03:11:11+00:00\n",
              "19      2016-10-27 04:25:08+00:00\n",
              "20      2016-10-27 04:25:08+00:00\n",
              "                   ...           \n",
              "33759   2017-03-28 11:45:22+00:00\n",
              "33760   2017-03-28 11:45:22+00:00\n",
              "33761   2017-03-28 11:45:22+00:00\n",
              "33799   2017-04-13 20:44:29+00:00\n",
              "33800   2017-04-13 20:41:27+00:00\n",
              "Name: datetime, Length: 25976, dtype: datetime64[ns, UTC]"
            ]
          },
          "metadata": {
            "tags": []
          },
          "execution_count": 201
        }
      ]
    },
    {
      "cell_type": "code",
      "metadata": {
        "id": "Sv1wd9wj7P9e"
      },
      "source": [
        "import datetime\n",
        "\n",
        "# this line converts the string object in Timestamp object\n",
        "#data['datetime'] = [datetime.datetime.strptime(d, \"%Y-%m-%d %S:%M:H%\") for d in data[\"datetime\"]]\n",
        "\n",
        "# extracting date from timestamp\n",
        "data['Date'] = [datetime.datetime.date(d) for d in data['datetime']] \n",
        "\n",
        "# extracting time from timestamp\n",
        "data['Time'] = [datetime.datetime.time(d) for d in data['datetime']] "
      ],
      "execution_count": null,
      "outputs": []
    },
    {
      "cell_type": "code",
      "metadata": {
        "colab": {
          "base_uri": "https://localhost:8080/"
        },
        "id": "-Y9KsTSrCH_d",
        "outputId": "e4e8f2f9-7a2b-4c38-b4c1-3077f8639dc0"
      },
      "source": [
        "data['Date']"
      ],
      "execution_count": null,
      "outputs": [
        {
          "output_type": "execute_result",
          "data": {
            "text/plain": [
              "7        2016-11-10\n",
              "10       2016-11-04\n",
              "11       2016-11-04\n",
              "19       2016-10-27\n",
              "20       2016-10-27\n",
              "            ...    \n",
              "33759    2017-03-28\n",
              "33760    2017-03-28\n",
              "33761    2017-03-28\n",
              "33799    2017-04-13\n",
              "33800    2017-04-13\n",
              "Name: Date, Length: 25976, dtype: object"
            ]
          },
          "metadata": {
            "tags": []
          },
          "execution_count": 204
        }
      ]
    },
    {
      "cell_type": "code",
      "metadata": {
        "colab": {
          "base_uri": "https://localhost:8080/"
        },
        "id": "Sev4ig-ECLYe",
        "outputId": "6c9a8ef7-af3b-4d48-b37d-fe87ddaba988"
      },
      "source": [
        "data.info()"
      ],
      "execution_count": null,
      "outputs": [
        {
          "output_type": "stream",
          "text": [
            "<class 'pandas.core.frame.DataFrame'>\n",
            "Int64Index: 25976 entries, 7 to 33800\n",
            "Data columns (total 25 columns):\n",
            " #   Column            Non-Null Count  Dtype              \n",
            "---  ------            --------------  -----              \n",
            " 0   id                25976 non-null  object             \n",
            " 1   brand             25976 non-null  object             \n",
            " 2   colors            25976 non-null  object             \n",
            " 3   dateadded         25976 non-null  object             \n",
            " 4   dateupdated       25976 non-null  object             \n",
            " 5   prices.amountmin  25976 non-null  float64            \n",
            " 6   prices.amountmax  25976 non-null  float64            \n",
            " 7   prices.color      16004 non-null  object             \n",
            " 8   prices.issale     25976 non-null  bool               \n",
            " 9   prices.merchant   22859 non-null  object             \n",
            " 10  brand_clean       25976 non-null  object             \n",
            " 11  prices.amountavg  25976 non-null  float64            \n",
            " 12  price.stat        25976 non-null  bool               \n",
            " 13  isBoots           25976 non-null  int64              \n",
            " 14  isBooties         25976 non-null  int64              \n",
            " 15  isSandal          25976 non-null  int64              \n",
            " 16  isAthletic        25976 non-null  int64              \n",
            " 17  isCasual          25976 non-null  int64              \n",
            " 18  isDesigner        25976 non-null  int64              \n",
            " 19  isLeather         25976 non-null  int64              \n",
            " 20  isOther           25976 non-null  int64              \n",
            " 21  date              25976 non-null  datetime64[ns, UTC]\n",
            " 22  datetime          25976 non-null  datetime64[ns, UTC]\n",
            " 23  Date              25976 non-null  object             \n",
            " 24  Time              25976 non-null  object             \n",
            "dtypes: bool(2), datetime64[ns, UTC](2), float64(3), int64(8), object(10)\n",
            "memory usage: 4.8+ MB\n"
          ],
          "name": "stdout"
        }
      ]
    },
    {
      "cell_type": "code",
      "metadata": {
        "colab": {
          "base_uri": "https://localhost:8080/"
        },
        "id": "p3LcksueCORN",
        "outputId": "a52662cc-89c2-4dc0-d415-415252fd9a12"
      },
      "source": [
        "data.drop(['dateadded', 'dateupdated', 'prices.color', 'Time', 'date'], axis = 1, inplace = True)\n",
        "data.info()"
      ],
      "execution_count": null,
      "outputs": [
        {
          "output_type": "stream",
          "text": [
            "<class 'pandas.core.frame.DataFrame'>\n",
            "Int64Index: 25976 entries, 7 to 33800\n",
            "Data columns (total 20 columns):\n",
            " #   Column            Non-Null Count  Dtype              \n",
            "---  ------            --------------  -----              \n",
            " 0   id                25976 non-null  object             \n",
            " 1   brand             25976 non-null  object             \n",
            " 2   colors            25976 non-null  object             \n",
            " 3   prices.amountmin  25976 non-null  float64            \n",
            " 4   prices.amountmax  25976 non-null  float64            \n",
            " 5   prices.issale     25976 non-null  bool               \n",
            " 6   prices.merchant   22859 non-null  object             \n",
            " 7   brand_clean       25976 non-null  object             \n",
            " 8   prices.amountavg  25976 non-null  float64            \n",
            " 9   price.stat        25976 non-null  bool               \n",
            " 10  isBoots           25976 non-null  int64              \n",
            " 11  isBooties         25976 non-null  int64              \n",
            " 12  isSandal          25976 non-null  int64              \n",
            " 13  isAthletic        25976 non-null  int64              \n",
            " 14  isCasual          25976 non-null  int64              \n",
            " 15  isDesigner        25976 non-null  int64              \n",
            " 16  isLeather         25976 non-null  int64              \n",
            " 17  isOther           25976 non-null  int64              \n",
            " 18  datetime          25976 non-null  datetime64[ns, UTC]\n",
            " 19  Date              25976 non-null  object             \n",
            "dtypes: bool(2), datetime64[ns, UTC](1), float64(3), int64(8), object(6)\n",
            "memory usage: 3.8+ MB\n"
          ],
          "name": "stdout"
        }
      ]
    },
    {
      "cell_type": "code",
      "metadata": {
        "id": "3ZlEICm3DJip"
      },
      "source": [
        "data['Date'] = pd.to_datetime(data['Date'])"
      ],
      "execution_count": null,
      "outputs": []
    },
    {
      "cell_type": "code",
      "metadata": {
        "colab": {
          "base_uri": "https://localhost:8080/"
        },
        "id": "eE6q8szKDSI9",
        "outputId": "1d13c5e7-e4e7-411a-e6e4-ac8149af1394"
      },
      "source": [
        "data.info()"
      ],
      "execution_count": null,
      "outputs": [
        {
          "output_type": "stream",
          "text": [
            "<class 'pandas.core.frame.DataFrame'>\n",
            "Int64Index: 25976 entries, 7 to 33800\n",
            "Data columns (total 20 columns):\n",
            " #   Column            Non-Null Count  Dtype              \n",
            "---  ------            --------------  -----              \n",
            " 0   id                25976 non-null  object             \n",
            " 1   brand             25976 non-null  object             \n",
            " 2   colors            25976 non-null  object             \n",
            " 3   prices.amountmin  25976 non-null  float64            \n",
            " 4   prices.amountmax  25976 non-null  float64            \n",
            " 5   prices.issale     25976 non-null  bool               \n",
            " 6   prices.merchant   22859 non-null  object             \n",
            " 7   brand_clean       25976 non-null  object             \n",
            " 8   prices.amountavg  25976 non-null  float64            \n",
            " 9   price.stat        25976 non-null  bool               \n",
            " 10  isBoots           25976 non-null  int64              \n",
            " 11  isBooties         25976 non-null  int64              \n",
            " 12  isSandal          25976 non-null  int64              \n",
            " 13  isAthletic        25976 non-null  int64              \n",
            " 14  isCasual          25976 non-null  int64              \n",
            " 15  isDesigner        25976 non-null  int64              \n",
            " 16  isLeather         25976 non-null  int64              \n",
            " 17  isOther           25976 non-null  int64              \n",
            " 18  datetime          25976 non-null  datetime64[ns, UTC]\n",
            " 19  Date              25976 non-null  datetime64[ns]     \n",
            "dtypes: bool(2), datetime64[ns, UTC](1), datetime64[ns](1), float64(3), int64(8), object(5)\n",
            "memory usage: 3.8+ MB\n"
          ],
          "name": "stdout"
        }
      ]
    },
    {
      "cell_type": "code",
      "metadata": {
        "colab": {
          "base_uri": "https://localhost:8080/",
          "height": 401
        },
        "id": "-GalRp_0DX82",
        "outputId": "ded26499-8c06-44a6-b7c0-c9ae99aac1b5"
      },
      "source": [
        "#Price by brand\n",
        "most_expensive = data.sort_values(by='prices.amountmax', ascending=False).head(500) # .tail(100)\n",
        "plt.figure(figsize=(10,15), dpi=100, facecolor='w', edgecolor='k')\n",
        "most_expensive[['brand','prices.amountmax']].groupby('brand').agg('max').plot(kind='bar', color=sns.color_palette('CMRmap',12))"
      ],
      "execution_count": null,
      "outputs": [
        {
          "output_type": "execute_result",
          "data": {
            "text/plain": [
              "<matplotlib.axes._subplots.AxesSubplot at 0x7f0d1420e1d0>"
            ]
          },
          "metadata": {
            "tags": []
          },
          "execution_count": 232
        },
        {
          "output_type": "display_data",
          "data": {
            "text/plain": [
              "<Figure size 1000x1500 with 0 Axes>"
            ]
          },
          "metadata": {
            "tags": []
          }
        },
        {
          "output_type": "display_data",
          "data": {
            "image/png": "[encoded data removed]",
            "text/plain": [
              "<Figure size 432x288 with 1 Axes>"
            ]
          },
          "metadata": {
            "tags": [],
            "needs_background": "light"
          }
        }
      ]
    },
    {
      "cell_type": "code",
      "metadata": {
        "id": "g4_knYD9HHb5"
      },
      "source": [
        "brand_cnt = data['brand'].value_counts() > 150\n",
        "plt.hist(brand_cnt)"
      ],
      "execution_count": null,
      "outputs": []
    },
    {
      "cell_type": "code",
      "metadata": {
        "id": "axQgOWeHH_DG"
      },
      "source": [
        "data.to_csv('clean_women_shoes_data.csv')"
      ],
      "execution_count": null,
      "outputs": []
    }
  ]
}